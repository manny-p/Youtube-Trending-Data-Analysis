{
 "cells": [
  {
   "cell_type": "code",
   "execution_count": 1,
   "id": "fallen-checklist",
   "metadata": {},
   "outputs": [],
   "source": [
    "# Dependencies and Setup\n",
    "import matplotlib.pyplot as plt\n",
    "import pandas as pd\n",
    "import scipy.stats as st\n",
    "import numpy as np\n",
    "import seaborn as sns"
   ]
  },
  {
   "cell_type": "code",
   "execution_count": 3,
   "id": "liberal-formation",
   "metadata": {
    "scrolled": false
   },
   "outputs": [
    {
     "name": "stdout",
     "output_type": "stream",
     "text": [
      "<class 'pandas.core.frame.DataFrame'>\n",
      "RangeIndex: 50791 entries, 0 to 50790\n",
      "Data columns (total 16 columns):\n",
      " #   Column             Non-Null Count  Dtype \n",
      "---  ------             --------------  ----- \n",
      " 0   video_id           50791 non-null  object\n",
      " 1   title              50791 non-null  object\n",
      " 2   publishedAt        50791 non-null  object\n",
      " 3   channelId          50791 non-null  object\n",
      " 4   channelTitle       50791 non-null  object\n",
      " 5   categoryId         50791 non-null  int64 \n",
      " 6   trending_date      50791 non-null  object\n",
      " 7   tags               50791 non-null  object\n",
      " 8   view_count         50791 non-null  int64 \n",
      " 9   likes              50791 non-null  int64 \n",
      " 10  dislikes           50791 non-null  int64 \n",
      " 11  comment_count      50791 non-null  int64 \n",
      " 12  thumbnail_link     50791 non-null  object\n",
      " 13  comments_disabled  50791 non-null  bool  \n",
      " 14  ratings_disabled   50791 non-null  bool  \n",
      " 15  description        50407 non-null  object\n",
      "dtypes: bool(2), int64(5), object(9)\n",
      "memory usage: 5.5+ MB\n"
     ]
    }
   ],
   "source": [
    "youtube_path = '../data/US_youtube_trending_data.csv'\n",
    "\n",
    "youtube = pd.read_csv(youtube_path)\n",
    "\n",
    "df = pd.DataFrame(youtube)\n",
    "\n",
    "df.info()"
   ]
  },
  {
   "cell_type": "code",
   "execution_count": null,
   "id": "sweet-montgomery",
   "metadata": {},
   "outputs": [],
   "source": []
  }
 ],
 "metadata": {
  "kernelspec": {
   "display_name": "PythonData",
   "language": "python",
   "name": "pythondata"
  },
  "language_info": {
   "codemirror_mode": {
    "name": "ipython",
    "version": 3
   },
   "file_extension": ".py",
   "mimetype": "text/x-python",
   "name": "python",
   "nbconvert_exporter": "python",
   "pygments_lexer": "ipython3",
   "version": "3.6.10"
  },
  "toc": {
   "base_numbering": 1,
   "nav_menu": {},
   "number_sections": true,
   "sideBar": true,
   "skip_h1_title": false,
   "title_cell": "Table of Contents",
   "title_sidebar": "Contents",
   "toc_cell": false,
   "toc_position": {},
   "toc_section_display": true,
   "toc_window_display": false
  }
 },
 "nbformat": 4,
 "nbformat_minor": 5
}
