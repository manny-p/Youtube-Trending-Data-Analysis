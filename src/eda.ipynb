{
 "cells": [
  {
   "cell_type": "markdown",
   "id": "a95e4b78",
   "metadata": {
    "heading_collapsed": true
   },
   "source": [
    "# Title"
   ]
  },
  {
   "cell_type": "markdown",
   "id": "79e49e11",
   "metadata": {},
   "source": [
    "# Lib Import"
   ]
  },
  {
   "cell_type": "code",
   "execution_count": 1,
   "id": "fallen-checklist",
   "metadata": {},
   "outputs": [],
   "source": [
    "import warnings\n",
    "warnings.filterwarnings('ignore')\n",
    "\n",
    "# Dependencies and Setup\n",
    "import matplotlib.pyplot as plt\n",
    "import pandas as pd\n",
    "import scipy.stats as st\n",
    "import numpy as np\n",
    "import seaborn as sns\n",
    "import datetime as dt"
   ]
  },
  {
   "cell_type": "code",
   "execution_count": 2,
   "id": "60df82b2",
   "metadata": {
    "scrolled": false
   },
   "outputs": [
    {
     "name": "stderr",
     "output_type": "stream",
     "text": [
      "2021-04-30 17:38:28.373 WARNING root: \n",
      "  \u001b[33m\u001b[1mWarning:\u001b[0m to view this Streamlit app on a browser, run it with the following\n",
      "  command:\n",
      "\n",
      "    streamlit run /usr/local/anaconda3/envs/PythonData/lib/python3.6/site-packages/ipykernel_launcher.py [ARGUMENTS]\n"
     ]
    }
   ],
   "source": [
    "import streamlit as st\n",
    "\n",
    "\n",
    "st.write(\n",
    "'''\n",
    "# Hello World\n",
    "'''\n",
    ")"
   ]
  },
  {
   "cell_type": "markdown",
   "id": "e4155d52",
   "metadata": {},
   "source": [
    "# Data Collection"
   ]
  },
  {
   "cell_type": "code",
   "execution_count": 3,
   "id": "liberal-formation",
   "metadata": {
    "scrolled": false
   },
   "outputs": [],
   "source": [
    "youtube_path = '../data/US_youtube_trending_data.csv'\n",
    "\n",
    "youtube = pd.read_csv(youtube_path)\n",
    "\n",
    "df = pd.DataFrame(youtube)\n",
    "df_0 = df.copy()"
   ]
  },
  {
   "cell_type": "markdown",
   "id": "0a12905a",
   "metadata": {},
   "source": [
    "## todos"
   ]
  },
  {
   "cell_type": "code",
   "execution_count": 4,
   "id": "aeeab3de",
   "metadata": {},
   "outputs": [],
   "source": [
    "# add api"
   ]
  },
  {
   "cell_type": "markdown",
   "id": "060891bc",
   "metadata": {},
   "source": [
    "# Data Processing "
   ]
  },
  {
   "cell_type": "markdown",
   "id": "7835cd72",
   "metadata": {},
   "source": [
    "## Clean "
   ]
  },
  {
   "cell_type": "code",
   "execution_count": 5,
   "id": "sweet-montgomery",
   "metadata": {},
   "outputs": [
    {
     "data": {
      "text/html": [
       "<div>\n",
       "<style scoped>\n",
       "    .dataframe tbody tr th:only-of-type {\n",
       "        vertical-align: middle;\n",
       "    }\n",
       "\n",
       "    .dataframe tbody tr th {\n",
       "        vertical-align: top;\n",
       "    }\n",
       "\n",
       "    .dataframe thead th {\n",
       "        text-align: right;\n",
       "    }\n",
       "</style>\n",
       "<table border=\"1\" class=\"dataframe\">\n",
       "  <thead>\n",
       "    <tr style=\"text-align: right;\">\n",
       "      <th></th>\n",
       "      <th>video_id</th>\n",
       "      <th>title</th>\n",
       "      <th>publishedAt</th>\n",
       "      <th>channelId</th>\n",
       "      <th>channelTitle</th>\n",
       "      <th>categoryId</th>\n",
       "      <th>trending_date</th>\n",
       "      <th>tags</th>\n",
       "      <th>view_count</th>\n",
       "      <th>likes</th>\n",
       "      <th>dislikes</th>\n",
       "      <th>comment_count</th>\n",
       "      <th>thumbnail_link</th>\n",
       "      <th>comments_disabled</th>\n",
       "      <th>ratings_disabled</th>\n",
       "      <th>description</th>\n",
       "    </tr>\n",
       "  </thead>\n",
       "  <tbody>\n",
       "    <tr>\n",
       "      <th>0</th>\n",
       "      <td>3C66w5Z0ixs</td>\n",
       "      <td>I ASKED HER TO BE MY GIRLFRIEND...</td>\n",
       "      <td>2020-08-11T19:20:14Z</td>\n",
       "      <td>UCvtRTOMP2TqYqu51xNrqAzg</td>\n",
       "      <td>Brawadis</td>\n",
       "      <td>22</td>\n",
       "      <td>2020-08-12T00:00:00Z</td>\n",
       "      <td>brawadis|prank|basketball|skits|ghost|funny vi...</td>\n",
       "      <td>1514614</td>\n",
       "      <td>156908</td>\n",
       "      <td>5855</td>\n",
       "      <td>35313</td>\n",
       "      <td>https://i.ytimg.com/vi/3C66w5Z0ixs/default.jpg</td>\n",
       "      <td>False</td>\n",
       "      <td>False</td>\n",
       "      <td>SUBSCRIBE to BRAWADIS ▶ http://bit.ly/Subscrib...</td>\n",
       "    </tr>\n",
       "    <tr>\n",
       "      <th>1</th>\n",
       "      <td>M9Pmf9AB4Mo</td>\n",
       "      <td>Apex Legends | Stories from the Outlands – “Th...</td>\n",
       "      <td>2020-08-11T17:00:10Z</td>\n",
       "      <td>UC0ZV6M2THA81QT9hrVWJG3A</td>\n",
       "      <td>Apex Legends</td>\n",
       "      <td>20</td>\n",
       "      <td>2020-08-12T00:00:00Z</td>\n",
       "      <td>Apex Legends|Apex Legends characters|new Apex ...</td>\n",
       "      <td>2381688</td>\n",
       "      <td>146739</td>\n",
       "      <td>2794</td>\n",
       "      <td>16549</td>\n",
       "      <td>https://i.ytimg.com/vi/M9Pmf9AB4Mo/default.jpg</td>\n",
       "      <td>False</td>\n",
       "      <td>False</td>\n",
       "      <td>While running her own modding shop, Ramya Pare...</td>\n",
       "    </tr>\n",
       "    <tr>\n",
       "      <th>2</th>\n",
       "      <td>J78aPJ3VyNs</td>\n",
       "      <td>I left youtube for a month and THIS is what ha...</td>\n",
       "      <td>2020-08-11T16:34:06Z</td>\n",
       "      <td>UCYzPXprvl5Y-Sf0g4vX-m6g</td>\n",
       "      <td>jacksepticeye</td>\n",
       "      <td>24</td>\n",
       "      <td>2020-08-12T00:00:00Z</td>\n",
       "      <td>jacksepticeye|funny|funny meme|memes|jacksepti...</td>\n",
       "      <td>2038853</td>\n",
       "      <td>353787</td>\n",
       "      <td>2628</td>\n",
       "      <td>40221</td>\n",
       "      <td>https://i.ytimg.com/vi/J78aPJ3VyNs/default.jpg</td>\n",
       "      <td>False</td>\n",
       "      <td>False</td>\n",
       "      <td>I left youtube for a month and this is what ha...</td>\n",
       "    </tr>\n",
       "    <tr>\n",
       "      <th>3</th>\n",
       "      <td>kXLn3HkpjaA</td>\n",
       "      <td>XXL 2020 Freshman Class Revealed - Official An...</td>\n",
       "      <td>2020-08-11T16:38:55Z</td>\n",
       "      <td>UCbg_UMjlHJg_19SZckaKajg</td>\n",
       "      <td>XXL</td>\n",
       "      <td>10</td>\n",
       "      <td>2020-08-12T00:00:00Z</td>\n",
       "      <td>xxl freshman|xxl freshmen|2020 xxl freshman|20...</td>\n",
       "      <td>496771</td>\n",
       "      <td>23251</td>\n",
       "      <td>1856</td>\n",
       "      <td>7647</td>\n",
       "      <td>https://i.ytimg.com/vi/kXLn3HkpjaA/default.jpg</td>\n",
       "      <td>False</td>\n",
       "      <td>False</td>\n",
       "      <td>Subscribe to XXL → http://bit.ly/subscribe-xxl...</td>\n",
       "    </tr>\n",
       "    <tr>\n",
       "      <th>4</th>\n",
       "      <td>VIUo6yapDbc</td>\n",
       "      <td>Ultimate DIY Home Movie Theater for The LaBran...</td>\n",
       "      <td>2020-08-11T15:10:05Z</td>\n",
       "      <td>UCDVPcEbVLQgLZX0Rt6jo34A</td>\n",
       "      <td>Mr. Kate</td>\n",
       "      <td>26</td>\n",
       "      <td>2020-08-12T00:00:00Z</td>\n",
       "      <td>The LaBrant Family|DIY|Interior Design|Makeove...</td>\n",
       "      <td>1123889</td>\n",
       "      <td>45802</td>\n",
       "      <td>964</td>\n",
       "      <td>2196</td>\n",
       "      <td>https://i.ytimg.com/vi/VIUo6yapDbc/default.jpg</td>\n",
       "      <td>False</td>\n",
       "      <td>False</td>\n",
       "      <td>Transforming The LaBrant Family's empty white ...</td>\n",
       "    </tr>\n",
       "  </tbody>\n",
       "</table>\n",
       "</div>"
      ],
      "text/plain": [
       "      video_id                                              title  \\\n",
       "0  3C66w5Z0ixs                 I ASKED HER TO BE MY GIRLFRIEND...   \n",
       "1  M9Pmf9AB4Mo  Apex Legends | Stories from the Outlands – “Th...   \n",
       "2  J78aPJ3VyNs  I left youtube for a month and THIS is what ha...   \n",
       "3  kXLn3HkpjaA  XXL 2020 Freshman Class Revealed - Official An...   \n",
       "4  VIUo6yapDbc  Ultimate DIY Home Movie Theater for The LaBran...   \n",
       "\n",
       "            publishedAt                 channelId   channelTitle  categoryId  \\\n",
       "0  2020-08-11T19:20:14Z  UCvtRTOMP2TqYqu51xNrqAzg       Brawadis          22   \n",
       "1  2020-08-11T17:00:10Z  UC0ZV6M2THA81QT9hrVWJG3A   Apex Legends          20   \n",
       "2  2020-08-11T16:34:06Z  UCYzPXprvl5Y-Sf0g4vX-m6g  jacksepticeye          24   \n",
       "3  2020-08-11T16:38:55Z  UCbg_UMjlHJg_19SZckaKajg            XXL          10   \n",
       "4  2020-08-11T15:10:05Z  UCDVPcEbVLQgLZX0Rt6jo34A       Mr. Kate          26   \n",
       "\n",
       "          trending_date                                               tags  \\\n",
       "0  2020-08-12T00:00:00Z  brawadis|prank|basketball|skits|ghost|funny vi...   \n",
       "1  2020-08-12T00:00:00Z  Apex Legends|Apex Legends characters|new Apex ...   \n",
       "2  2020-08-12T00:00:00Z  jacksepticeye|funny|funny meme|memes|jacksepti...   \n",
       "3  2020-08-12T00:00:00Z  xxl freshman|xxl freshmen|2020 xxl freshman|20...   \n",
       "4  2020-08-12T00:00:00Z  The LaBrant Family|DIY|Interior Design|Makeove...   \n",
       "\n",
       "   view_count   likes  dislikes  comment_count  \\\n",
       "0     1514614  156908      5855          35313   \n",
       "1     2381688  146739      2794          16549   \n",
       "2     2038853  353787      2628          40221   \n",
       "3      496771   23251      1856           7647   \n",
       "4     1123889   45802       964           2196   \n",
       "\n",
       "                                   thumbnail_link  comments_disabled  \\\n",
       "0  https://i.ytimg.com/vi/3C66w5Z0ixs/default.jpg              False   \n",
       "1  https://i.ytimg.com/vi/M9Pmf9AB4Mo/default.jpg              False   \n",
       "2  https://i.ytimg.com/vi/J78aPJ3VyNs/default.jpg              False   \n",
       "3  https://i.ytimg.com/vi/kXLn3HkpjaA/default.jpg              False   \n",
       "4  https://i.ytimg.com/vi/VIUo6yapDbc/default.jpg              False   \n",
       "\n",
       "   ratings_disabled                                        description  \n",
       "0             False  SUBSCRIBE to BRAWADIS ▶ http://bit.ly/Subscrib...  \n",
       "1             False  While running her own modding shop, Ramya Pare...  \n",
       "2             False  I left youtube for a month and this is what ha...  \n",
       "3             False  Subscribe to XXL → http://bit.ly/subscribe-xxl...  \n",
       "4             False  Transforming The LaBrant Family's empty white ...  "
      ]
     },
     "execution_count": 5,
     "metadata": {},
     "output_type": "execute_result"
    }
   ],
   "source": [
    "# inspect data\n",
    "df.head()"
   ]
  },
  {
   "cell_type": "code",
   "execution_count": 6,
   "id": "59d303a5",
   "metadata": {},
   "outputs": [],
   "source": [
    "# add missing category str column\n",
    "df['category'] = ''"
   ]
  },
  {
   "cell_type": "code",
   "execution_count": 7,
   "id": "major-debut",
   "metadata": {},
   "outputs": [
    {
     "name": "stdout",
     "output_type": "stream",
     "text": [
      "<class 'pandas.core.frame.DataFrame'>\n",
      "RangeIndex: 50791 entries, 0 to 50790\n",
      "Data columns (total 17 columns):\n",
      " #   Column             Non-Null Count  Dtype \n",
      "---  ------             --------------  ----- \n",
      " 0   video_id           50791 non-null  object\n",
      " 1   title              50791 non-null  object\n",
      " 2   publishedAt        50791 non-null  object\n",
      " 3   channelId          50791 non-null  object\n",
      " 4   channelTitle       50791 non-null  object\n",
      " 5   categoryId         50791 non-null  int64 \n",
      " 6   trending_date      50791 non-null  object\n",
      " 7   tags               50791 non-null  object\n",
      " 8   view_count         50791 non-null  int64 \n",
      " 9   likes              50791 non-null  int64 \n",
      " 10  dislikes           50791 non-null  int64 \n",
      " 11  comment_count      50791 non-null  int64 \n",
      " 12  thumbnail_link     50791 non-null  object\n",
      " 13  comments_disabled  50791 non-null  bool  \n",
      " 14  ratings_disabled   50791 non-null  bool  \n",
      " 15  description        50407 non-null  object\n",
      " 16  category           50791 non-null  object\n",
      "dtypes: bool(2), int64(5), object(10)\n",
      "memory usage: 5.9+ MB\n"
     ]
    }
   ],
   "source": [
    "df.info()"
   ]
  },
  {
   "cell_type": "code",
   "execution_count": 8,
   "id": "a67e4cb2",
   "metadata": {
    "cell_style": "split",
    "code_folding": [
     2
    ],
    "scrolled": true
   },
   "outputs": [
    {
     "data": {
      "text/plain": [
       "Music                    10425\n",
       "Entertainment            10202\n",
       "Gaming                    6429\n",
       "Sports                    5772\n",
       "People & Blogs            4299\n",
       "Comedy                    2895\n",
       "Science & Technology      2111\n",
       "Howto & Style             2110\n",
       "News & Politics           2058\n",
       "Film & Animation          1956\n",
       "Education                 1076\n",
       "Autos & Vehicles           929\n",
       "Pets & Animals             310\n",
       "Travel & Events            188\n",
       "Nonprofits & Activism       31\n",
       "Name: category, dtype: int64"
      ]
     },
     "execution_count": 8,
     "metadata": {},
     "output_type": "execute_result"
    }
   ],
   "source": [
    "# loop through category columnn, map int ids to str values, calc totals\n",
    "\n",
    "cat_list = ['Autos & Vehicles', 'Film & Animation', 'Music', 'Pets & Animals', \n",
    "             'Sports', 'Travel & Events', 'Gaming', 'People & Blogs', 'Comedy', \n",
    "             'Entertainment', 'News & Politics', 'Howto & Style', 'Education', \n",
    "             'Science & Technology', 'Nonprofits & Activism']\n",
    "\n",
    "for i,cat in enumerate(df.iterrows()):\n",
    "    if cat[1].categoryId == 2:\n",
    "        df.loc[i,'category'] = cat_list[0]\n",
    "    elif cat[1].categoryId == 1:\n",
    "        df.loc[i,'category'] = cat_list[1]\n",
    "    elif cat[1].categoryId == 10:\n",
    "        df.loc[i,'category'] = cat_list[2]\n",
    "    elif cat[1].categoryId == 15:\n",
    "        df.loc[i,'category'] = cat_list[3]\n",
    "    elif cat[1].categoryId == 17:\n",
    "        df.loc[i,'category'] = cat_list[4]\n",
    "    elif cat[1].categoryId == 19:\n",
    "        df.loc[i,'category'] = cat_list[5]\n",
    "    elif cat[1].categoryId == 20:\n",
    "        df.loc[i,'category'] = cat_list[6]\n",
    "    elif cat[1].categoryId == 22:\n",
    "        df.loc[i,'category'] = cat_list[7]\n",
    "    elif cat[1].categoryId == 23:\n",
    "        df.loc[i,'category'] = cat_list[8]\n",
    "    elif cat[1].categoryId == 24:\n",
    "        df.loc[i,'category'] = cat_list[9]\n",
    "    elif cat[1].categoryId == 25:\n",
    "        df.loc[i,'category'] = cat_list[10]\n",
    "    elif cat[1].categoryId == 26:\n",
    "        df.loc[i,'category'] = cat_list[11]\n",
    "    elif cat[1].categoryId == 27:\n",
    "        df.loc[i,'category'] = cat_list[12]\n",
    "        \n",
    "    elif cat[1].categoryId == 28:\n",
    "        df.loc[i,'category'] = cat_list[13]\n",
    "    elif cat[1].categoryId == 29:\n",
    "        df.loc[i,'category'] = cat_list[14]\n",
    "\n",
    "df.category.value_counts()"
   ]
  },
  {
   "cell_type": "code",
   "execution_count": 9,
   "id": "cordless-billy",
   "metadata": {
    "cell_style": "split",
    "code_folding": [],
    "scrolled": false
   },
   "outputs": [
    {
     "data": {
      "text/plain": [
       "Music                    10425\n",
       "Entertainment            10202\n",
       "Gaming                    6429\n",
       "Sports                    5772\n",
       "People & Blogs            4299\n",
       "Comedy                    2895\n",
       "Science & Technology      2111\n",
       "Howto & Style             2110\n",
       "News & Politics           2058\n",
       "Film & Animation          1956\n",
       "Education                 1076\n",
       "Autos & Vehicles           929\n",
       "Pets & Animals             310\n",
       "Travel & Events            188\n",
       "Nonprofits & Activism       31\n",
       "Name: cat_labels, dtype: int64"
      ]
     },
     "execution_count": 9,
     "metadata": {},
     "output_type": "execute_result"
    }
   ],
   "source": [
    "# refactor conditional for loop\n",
    "\n",
    "cat_list = ['Film & Animation', 'Autos & Vehicles', 'Music', 'Pets & Animals', \n",
    "             'Sports', 'Travel & Events', 'Gaming', 'People & Blogs', 'Comedy', \n",
    "             'Entertainment', 'News & Politics', 'Howto & Style', 'Education', \n",
    "             'Science & Technology', 'Nonprofits & Activism']\n",
    "\n",
    "cat_ids = [1,2,10,15, 17, 19, 20, 22, 23, 24, 25, 26, 27, 28, 29]\n",
    "\n",
    "category_dict =  dict(zip(cat_ids, cat_list))\n",
    "\n",
    "for i in range(len(df_0.index)):\n",
    "    ind = df_0.loc[i, 'categoryId']\n",
    "    df_0.loc[i, 'cat_labels'] = category_dict[ind]\n",
    "    \n",
    "df_0['cat_labels'].value_counts()"
   ]
  },
  {
   "cell_type": "code",
   "execution_count": 10,
   "id": "d5b8b5b3",
   "metadata": {},
   "outputs": [
    {
     "data": {
      "text/html": [
       "<div>\n",
       "<style scoped>\n",
       "    .dataframe tbody tr th:only-of-type {\n",
       "        vertical-align: middle;\n",
       "    }\n",
       "\n",
       "    .dataframe tbody tr th {\n",
       "        vertical-align: top;\n",
       "    }\n",
       "\n",
       "    .dataframe thead th {\n",
       "        text-align: right;\n",
       "    }\n",
       "</style>\n",
       "<table border=\"1\" class=\"dataframe\">\n",
       "  <thead>\n",
       "    <tr style=\"text-align: right;\">\n",
       "      <th></th>\n",
       "      <th>video_id</th>\n",
       "      <th>title</th>\n",
       "      <th>publishedAt</th>\n",
       "      <th>channelId</th>\n",
       "      <th>channelTitle</th>\n",
       "      <th>categoryId</th>\n",
       "      <th>trending_date</th>\n",
       "      <th>tags</th>\n",
       "      <th>view_count</th>\n",
       "      <th>likes</th>\n",
       "      <th>dislikes</th>\n",
       "      <th>comment_count</th>\n",
       "      <th>thumbnail_link</th>\n",
       "      <th>comments_disabled</th>\n",
       "      <th>ratings_disabled</th>\n",
       "      <th>description</th>\n",
       "      <th>cat_labels</th>\n",
       "    </tr>\n",
       "  </thead>\n",
       "  <tbody>\n",
       "    <tr>\n",
       "      <th>0</th>\n",
       "      <td>3C66w5Z0ixs</td>\n",
       "      <td>I ASKED HER TO BE MY GIRLFRIEND...</td>\n",
       "      <td>2020-08-11T19:20:14Z</td>\n",
       "      <td>UCvtRTOMP2TqYqu51xNrqAzg</td>\n",
       "      <td>Brawadis</td>\n",
       "      <td>22</td>\n",
       "      <td>2020-08-12T00:00:00Z</td>\n",
       "      <td>brawadis|prank|basketball|skits|ghost|funny vi...</td>\n",
       "      <td>1514614</td>\n",
       "      <td>156908</td>\n",
       "      <td>5855</td>\n",
       "      <td>35313</td>\n",
       "      <td>https://i.ytimg.com/vi/3C66w5Z0ixs/default.jpg</td>\n",
       "      <td>False</td>\n",
       "      <td>False</td>\n",
       "      <td>SUBSCRIBE to BRAWADIS ▶ http://bit.ly/Subscrib...</td>\n",
       "      <td>People &amp; Blogs</td>\n",
       "    </tr>\n",
       "    <tr>\n",
       "      <th>1</th>\n",
       "      <td>M9Pmf9AB4Mo</td>\n",
       "      <td>Apex Legends | Stories from the Outlands – “Th...</td>\n",
       "      <td>2020-08-11T17:00:10Z</td>\n",
       "      <td>UC0ZV6M2THA81QT9hrVWJG3A</td>\n",
       "      <td>Apex Legends</td>\n",
       "      <td>20</td>\n",
       "      <td>2020-08-12T00:00:00Z</td>\n",
       "      <td>Apex Legends|Apex Legends characters|new Apex ...</td>\n",
       "      <td>2381688</td>\n",
       "      <td>146739</td>\n",
       "      <td>2794</td>\n",
       "      <td>16549</td>\n",
       "      <td>https://i.ytimg.com/vi/M9Pmf9AB4Mo/default.jpg</td>\n",
       "      <td>False</td>\n",
       "      <td>False</td>\n",
       "      <td>While running her own modding shop, Ramya Pare...</td>\n",
       "      <td>Gaming</td>\n",
       "    </tr>\n",
       "    <tr>\n",
       "      <th>2</th>\n",
       "      <td>J78aPJ3VyNs</td>\n",
       "      <td>I left youtube for a month and THIS is what ha...</td>\n",
       "      <td>2020-08-11T16:34:06Z</td>\n",
       "      <td>UCYzPXprvl5Y-Sf0g4vX-m6g</td>\n",
       "      <td>jacksepticeye</td>\n",
       "      <td>24</td>\n",
       "      <td>2020-08-12T00:00:00Z</td>\n",
       "      <td>jacksepticeye|funny|funny meme|memes|jacksepti...</td>\n",
       "      <td>2038853</td>\n",
       "      <td>353787</td>\n",
       "      <td>2628</td>\n",
       "      <td>40221</td>\n",
       "      <td>https://i.ytimg.com/vi/J78aPJ3VyNs/default.jpg</td>\n",
       "      <td>False</td>\n",
       "      <td>False</td>\n",
       "      <td>I left youtube for a month and this is what ha...</td>\n",
       "      <td>Entertainment</td>\n",
       "    </tr>\n",
       "    <tr>\n",
       "      <th>3</th>\n",
       "      <td>kXLn3HkpjaA</td>\n",
       "      <td>XXL 2020 Freshman Class Revealed - Official An...</td>\n",
       "      <td>2020-08-11T16:38:55Z</td>\n",
       "      <td>UCbg_UMjlHJg_19SZckaKajg</td>\n",
       "      <td>XXL</td>\n",
       "      <td>10</td>\n",
       "      <td>2020-08-12T00:00:00Z</td>\n",
       "      <td>xxl freshman|xxl freshmen|2020 xxl freshman|20...</td>\n",
       "      <td>496771</td>\n",
       "      <td>23251</td>\n",
       "      <td>1856</td>\n",
       "      <td>7647</td>\n",
       "      <td>https://i.ytimg.com/vi/kXLn3HkpjaA/default.jpg</td>\n",
       "      <td>False</td>\n",
       "      <td>False</td>\n",
       "      <td>Subscribe to XXL → http://bit.ly/subscribe-xxl...</td>\n",
       "      <td>Music</td>\n",
       "    </tr>\n",
       "    <tr>\n",
       "      <th>4</th>\n",
       "      <td>VIUo6yapDbc</td>\n",
       "      <td>Ultimate DIY Home Movie Theater for The LaBran...</td>\n",
       "      <td>2020-08-11T15:10:05Z</td>\n",
       "      <td>UCDVPcEbVLQgLZX0Rt6jo34A</td>\n",
       "      <td>Mr. Kate</td>\n",
       "      <td>26</td>\n",
       "      <td>2020-08-12T00:00:00Z</td>\n",
       "      <td>The LaBrant Family|DIY|Interior Design|Makeove...</td>\n",
       "      <td>1123889</td>\n",
       "      <td>45802</td>\n",
       "      <td>964</td>\n",
       "      <td>2196</td>\n",
       "      <td>https://i.ytimg.com/vi/VIUo6yapDbc/default.jpg</td>\n",
       "      <td>False</td>\n",
       "      <td>False</td>\n",
       "      <td>Transforming The LaBrant Family's empty white ...</td>\n",
       "      <td>Howto &amp; Style</td>\n",
       "    </tr>\n",
       "  </tbody>\n",
       "</table>\n",
       "</div>"
      ],
      "text/plain": [
       "      video_id                                              title  \\\n",
       "0  3C66w5Z0ixs                 I ASKED HER TO BE MY GIRLFRIEND...   \n",
       "1  M9Pmf9AB4Mo  Apex Legends | Stories from the Outlands – “Th...   \n",
       "2  J78aPJ3VyNs  I left youtube for a month and THIS is what ha...   \n",
       "3  kXLn3HkpjaA  XXL 2020 Freshman Class Revealed - Official An...   \n",
       "4  VIUo6yapDbc  Ultimate DIY Home Movie Theater for The LaBran...   \n",
       "\n",
       "            publishedAt                 channelId   channelTitle  categoryId  \\\n",
       "0  2020-08-11T19:20:14Z  UCvtRTOMP2TqYqu51xNrqAzg       Brawadis          22   \n",
       "1  2020-08-11T17:00:10Z  UC0ZV6M2THA81QT9hrVWJG3A   Apex Legends          20   \n",
       "2  2020-08-11T16:34:06Z  UCYzPXprvl5Y-Sf0g4vX-m6g  jacksepticeye          24   \n",
       "3  2020-08-11T16:38:55Z  UCbg_UMjlHJg_19SZckaKajg            XXL          10   \n",
       "4  2020-08-11T15:10:05Z  UCDVPcEbVLQgLZX0Rt6jo34A       Mr. Kate          26   \n",
       "\n",
       "          trending_date                                               tags  \\\n",
       "0  2020-08-12T00:00:00Z  brawadis|prank|basketball|skits|ghost|funny vi...   \n",
       "1  2020-08-12T00:00:00Z  Apex Legends|Apex Legends characters|new Apex ...   \n",
       "2  2020-08-12T00:00:00Z  jacksepticeye|funny|funny meme|memes|jacksepti...   \n",
       "3  2020-08-12T00:00:00Z  xxl freshman|xxl freshmen|2020 xxl freshman|20...   \n",
       "4  2020-08-12T00:00:00Z  The LaBrant Family|DIY|Interior Design|Makeove...   \n",
       "\n",
       "   view_count   likes  dislikes  comment_count  \\\n",
       "0     1514614  156908      5855          35313   \n",
       "1     2381688  146739      2794          16549   \n",
       "2     2038853  353787      2628          40221   \n",
       "3      496771   23251      1856           7647   \n",
       "4     1123889   45802       964           2196   \n",
       "\n",
       "                                   thumbnail_link  comments_disabled  \\\n",
       "0  https://i.ytimg.com/vi/3C66w5Z0ixs/default.jpg              False   \n",
       "1  https://i.ytimg.com/vi/M9Pmf9AB4Mo/default.jpg              False   \n",
       "2  https://i.ytimg.com/vi/J78aPJ3VyNs/default.jpg              False   \n",
       "3  https://i.ytimg.com/vi/kXLn3HkpjaA/default.jpg              False   \n",
       "4  https://i.ytimg.com/vi/VIUo6yapDbc/default.jpg              False   \n",
       "\n",
       "   ratings_disabled                                        description  \\\n",
       "0             False  SUBSCRIBE to BRAWADIS ▶ http://bit.ly/Subscrib...   \n",
       "1             False  While running her own modding shop, Ramya Pare...   \n",
       "2             False  I left youtube for a month and this is what ha...   \n",
       "3             False  Subscribe to XXL → http://bit.ly/subscribe-xxl...   \n",
       "4             False  Transforming The LaBrant Family's empty white ...   \n",
       "\n",
       "       cat_labels  \n",
       "0  People & Blogs  \n",
       "1          Gaming  \n",
       "2   Entertainment  \n",
       "3           Music  \n",
       "4   Howto & Style  "
      ]
     },
     "execution_count": 10,
     "metadata": {},
     "output_type": "execute_result"
    }
   ],
   "source": [
    "df_0.head()"
   ]
  },
  {
   "cell_type": "code",
   "execution_count": 11,
   "id": "17dc8052",
   "metadata": {
    "scrolled": false
   },
   "outputs": [
    {
     "data": {
      "text/html": [
       "<div>\n",
       "<style scoped>\n",
       "    .dataframe tbody tr th:only-of-type {\n",
       "        vertical-align: middle;\n",
       "    }\n",
       "\n",
       "    .dataframe tbody tr th {\n",
       "        vertical-align: top;\n",
       "    }\n",
       "\n",
       "    .dataframe thead th {\n",
       "        text-align: right;\n",
       "    }\n",
       "</style>\n",
       "<table border=\"1\" class=\"dataframe\">\n",
       "  <thead>\n",
       "    <tr style=\"text-align: right;\">\n",
       "      <th></th>\n",
       "      <th>video_id</th>\n",
       "      <th>title</th>\n",
       "      <th>publishedAt</th>\n",
       "      <th>category</th>\n",
       "      <th>categoryId</th>\n",
       "      <th>channelId</th>\n",
       "      <th>channelTitle</th>\n",
       "      <th>trending_date</th>\n",
       "      <th>tags</th>\n",
       "      <th>view_count</th>\n",
       "      <th>likes</th>\n",
       "      <th>dislikes</th>\n",
       "      <th>comment_count</th>\n",
       "      <th>thumbnail_link</th>\n",
       "      <th>comments_disabled</th>\n",
       "      <th>ratings_disabled</th>\n",
       "      <th>description</th>\n",
       "    </tr>\n",
       "  </thead>\n",
       "  <tbody>\n",
       "    <tr>\n",
       "      <th>0</th>\n",
       "      <td>3C66w5Z0ixs</td>\n",
       "      <td>I ASKED HER TO BE MY GIRLFRIEND...</td>\n",
       "      <td>2020-08-11T19:20:14Z</td>\n",
       "      <td>People &amp; Blogs</td>\n",
       "      <td>22</td>\n",
       "      <td>UCvtRTOMP2TqYqu51xNrqAzg</td>\n",
       "      <td>Brawadis</td>\n",
       "      <td>2020-08-12T00:00:00Z</td>\n",
       "      <td>brawadis|prank|basketball|skits|ghost|funny vi...</td>\n",
       "      <td>1514614</td>\n",
       "      <td>156908</td>\n",
       "      <td>5855</td>\n",
       "      <td>35313</td>\n",
       "      <td>https://i.ytimg.com/vi/3C66w5Z0ixs/default.jpg</td>\n",
       "      <td>False</td>\n",
       "      <td>False</td>\n",
       "      <td>SUBSCRIBE to BRAWADIS ▶ http://bit.ly/Subscrib...</td>\n",
       "    </tr>\n",
       "    <tr>\n",
       "      <th>1</th>\n",
       "      <td>M9Pmf9AB4Mo</td>\n",
       "      <td>Apex Legends | Stories from the Outlands – “Th...</td>\n",
       "      <td>2020-08-11T17:00:10Z</td>\n",
       "      <td>Gaming</td>\n",
       "      <td>20</td>\n",
       "      <td>UC0ZV6M2THA81QT9hrVWJG3A</td>\n",
       "      <td>Apex Legends</td>\n",
       "      <td>2020-08-12T00:00:00Z</td>\n",
       "      <td>Apex Legends|Apex Legends characters|new Apex ...</td>\n",
       "      <td>2381688</td>\n",
       "      <td>146739</td>\n",
       "      <td>2794</td>\n",
       "      <td>16549</td>\n",
       "      <td>https://i.ytimg.com/vi/M9Pmf9AB4Mo/default.jpg</td>\n",
       "      <td>False</td>\n",
       "      <td>False</td>\n",
       "      <td>While running her own modding shop, Ramya Pare...</td>\n",
       "    </tr>\n",
       "    <tr>\n",
       "      <th>2</th>\n",
       "      <td>J78aPJ3VyNs</td>\n",
       "      <td>I left youtube for a month and THIS is what ha...</td>\n",
       "      <td>2020-08-11T16:34:06Z</td>\n",
       "      <td>Entertainment</td>\n",
       "      <td>24</td>\n",
       "      <td>UCYzPXprvl5Y-Sf0g4vX-m6g</td>\n",
       "      <td>jacksepticeye</td>\n",
       "      <td>2020-08-12T00:00:00Z</td>\n",
       "      <td>jacksepticeye|funny|funny meme|memes|jacksepti...</td>\n",
       "      <td>2038853</td>\n",
       "      <td>353787</td>\n",
       "      <td>2628</td>\n",
       "      <td>40221</td>\n",
       "      <td>https://i.ytimg.com/vi/J78aPJ3VyNs/default.jpg</td>\n",
       "      <td>False</td>\n",
       "      <td>False</td>\n",
       "      <td>I left youtube for a month and this is what ha...</td>\n",
       "    </tr>\n",
       "    <tr>\n",
       "      <th>3</th>\n",
       "      <td>kXLn3HkpjaA</td>\n",
       "      <td>XXL 2020 Freshman Class Revealed - Official An...</td>\n",
       "      <td>2020-08-11T16:38:55Z</td>\n",
       "      <td>Music</td>\n",
       "      <td>10</td>\n",
       "      <td>UCbg_UMjlHJg_19SZckaKajg</td>\n",
       "      <td>XXL</td>\n",
       "      <td>2020-08-12T00:00:00Z</td>\n",
       "      <td>xxl freshman|xxl freshmen|2020 xxl freshman|20...</td>\n",
       "      <td>496771</td>\n",
       "      <td>23251</td>\n",
       "      <td>1856</td>\n",
       "      <td>7647</td>\n",
       "      <td>https://i.ytimg.com/vi/kXLn3HkpjaA/default.jpg</td>\n",
       "      <td>False</td>\n",
       "      <td>False</td>\n",
       "      <td>Subscribe to XXL → http://bit.ly/subscribe-xxl...</td>\n",
       "    </tr>\n",
       "    <tr>\n",
       "      <th>4</th>\n",
       "      <td>VIUo6yapDbc</td>\n",
       "      <td>Ultimate DIY Home Movie Theater for The LaBran...</td>\n",
       "      <td>2020-08-11T15:10:05Z</td>\n",
       "      <td>Howto &amp; Style</td>\n",
       "      <td>26</td>\n",
       "      <td>UCDVPcEbVLQgLZX0Rt6jo34A</td>\n",
       "      <td>Mr. Kate</td>\n",
       "      <td>2020-08-12T00:00:00Z</td>\n",
       "      <td>The LaBrant Family|DIY|Interior Design|Makeove...</td>\n",
       "      <td>1123889</td>\n",
       "      <td>45802</td>\n",
       "      <td>964</td>\n",
       "      <td>2196</td>\n",
       "      <td>https://i.ytimg.com/vi/VIUo6yapDbc/default.jpg</td>\n",
       "      <td>False</td>\n",
       "      <td>False</td>\n",
       "      <td>Transforming The LaBrant Family's empty white ...</td>\n",
       "    </tr>\n",
       "  </tbody>\n",
       "</table>\n",
       "</div>"
      ],
      "text/plain": [
       "      video_id                                              title  \\\n",
       "0  3C66w5Z0ixs                 I ASKED HER TO BE MY GIRLFRIEND...   \n",
       "1  M9Pmf9AB4Mo  Apex Legends | Stories from the Outlands – “Th...   \n",
       "2  J78aPJ3VyNs  I left youtube for a month and THIS is what ha...   \n",
       "3  kXLn3HkpjaA  XXL 2020 Freshman Class Revealed - Official An...   \n",
       "4  VIUo6yapDbc  Ultimate DIY Home Movie Theater for The LaBran...   \n",
       "\n",
       "            publishedAt        category  categoryId                 channelId  \\\n",
       "0  2020-08-11T19:20:14Z  People & Blogs          22  UCvtRTOMP2TqYqu51xNrqAzg   \n",
       "1  2020-08-11T17:00:10Z          Gaming          20  UC0ZV6M2THA81QT9hrVWJG3A   \n",
       "2  2020-08-11T16:34:06Z   Entertainment          24  UCYzPXprvl5Y-Sf0g4vX-m6g   \n",
       "3  2020-08-11T16:38:55Z           Music          10  UCbg_UMjlHJg_19SZckaKajg   \n",
       "4  2020-08-11T15:10:05Z   Howto & Style          26  UCDVPcEbVLQgLZX0Rt6jo34A   \n",
       "\n",
       "    channelTitle         trending_date  \\\n",
       "0       Brawadis  2020-08-12T00:00:00Z   \n",
       "1   Apex Legends  2020-08-12T00:00:00Z   \n",
       "2  jacksepticeye  2020-08-12T00:00:00Z   \n",
       "3            XXL  2020-08-12T00:00:00Z   \n",
       "4       Mr. Kate  2020-08-12T00:00:00Z   \n",
       "\n",
       "                                                tags  view_count   likes  \\\n",
       "0  brawadis|prank|basketball|skits|ghost|funny vi...     1514614  156908   \n",
       "1  Apex Legends|Apex Legends characters|new Apex ...     2381688  146739   \n",
       "2  jacksepticeye|funny|funny meme|memes|jacksepti...     2038853  353787   \n",
       "3  xxl freshman|xxl freshmen|2020 xxl freshman|20...      496771   23251   \n",
       "4  The LaBrant Family|DIY|Interior Design|Makeove...     1123889   45802   \n",
       "\n",
       "   dislikes  comment_count                                  thumbnail_link  \\\n",
       "0      5855          35313  https://i.ytimg.com/vi/3C66w5Z0ixs/default.jpg   \n",
       "1      2794          16549  https://i.ytimg.com/vi/M9Pmf9AB4Mo/default.jpg   \n",
       "2      2628          40221  https://i.ytimg.com/vi/J78aPJ3VyNs/default.jpg   \n",
       "3      1856           7647  https://i.ytimg.com/vi/kXLn3HkpjaA/default.jpg   \n",
       "4       964           2196  https://i.ytimg.com/vi/VIUo6yapDbc/default.jpg   \n",
       "\n",
       "   comments_disabled  ratings_disabled  \\\n",
       "0              False             False   \n",
       "1              False             False   \n",
       "2              False             False   \n",
       "3              False             False   \n",
       "4              False             False   \n",
       "\n",
       "                                         description  \n",
       "0  SUBSCRIBE to BRAWADIS ▶ http://bit.ly/Subscrib...  \n",
       "1  While running her own modding shop, Ramya Pare...  \n",
       "2  I left youtube for a month and this is what ha...  \n",
       "3  Subscribe to XXL → http://bit.ly/subscribe-xxl...  \n",
       "4  Transforming The LaBrant Family's empty white ...  "
      ]
     },
     "execution_count": 11,
     "metadata": {},
     "output_type": "execute_result"
    }
   ],
   "source": [
    "# reorder category column, place left of categoryId\n",
    "\n",
    "def move_column(df, cols_to_move=[], ref_col='', place='After'):\n",
    "    \n",
    "    cols = df.columns.tolist()\n",
    "    if place == 'After':\n",
    "        seg1 = cols[:list(cols).index(ref_col) + 1]\n",
    "        seg2 = cols_to_move\n",
    "    if place == 'Before':\n",
    "        seg1 = cols[:list(cols).index(ref_col)]\n",
    "        seg2 = cols_to_move + [ref_col]\n",
    "    \n",
    "    seg1 = [i for i in seg1 if i not in seg2]\n",
    "    seg3 = [i for i in cols if i not in seg1 + seg2]\n",
    "    \n",
    "    return(df[seg1 + seg2 + seg3])\n",
    "\n",
    "df = move_column(df,\n",
    "                 cols_to_move=['category', 'categoryId'],\n",
    "                 ref_col='publishedAt',\n",
    "                 place='After')\n",
    "df.head()"
   ]
  },
  {
   "cell_type": "code",
   "execution_count": null,
   "id": "going-raising",
   "metadata": {},
   "outputs": [],
   "source": []
  },
  {
   "cell_type": "code",
   "execution_count": 12,
   "id": "f295e858",
   "metadata": {},
   "outputs": [],
   "source": [
    "#isolate date \n",
    "for i, row in enumerate(df.publishedAt):\n",
    "    df.loc[i, 'publishedAt'] = row[:10]\n",
    "    \n",
    "for i, row in enumerate(df.trending_date):\n",
    "    df.loc[i, 'trending_date'] = row[:10]\n",
    "    "
   ]
  },
  {
   "cell_type": "code",
   "execution_count": 13,
   "id": "238c59d9",
   "metadata": {},
   "outputs": [],
   "source": [
    "# p is for published \n",
    "# t = trending \n",
    "\n",
    "#split in order to analyze y-y, m-m, and d-d changes \n",
    "\n",
    "# Split review dates by year, month and day (strings)\n",
    "time_split = df.publishedAt.str.split('-', n=2, expand=True)\n",
    "df['p_year'] = time_split[0]\n",
    "df['p_month'] = time_split[1]\n",
    "df['p_day'] = time_split[2]\n",
    "\n",
    "# Convert review dates into a datetime object\n",
    "dates = df.publishedAt\n",
    "df.publishedAt = [d.date() for d in pd.to_datetime(dates)]\n",
    "\n",
    "# Extract month and year from review dates\n",
    "df['p_month_year'] = pd.to_datetime(df['publishedAt']).dt.to_period('M')\n",
    "\n",
    "# Split review dates by year, month and day (strings)\n",
    "time_split = df.trending_date.str.split('-', n=2, expand=True)\n",
    "df['t_year'] = time_split[0]\n",
    "df['t_month'] = time_split[1]\n",
    "df['t_day'] = time_split[2]\n",
    "\n",
    "# Convert review dates into a datetime object\n",
    "dates = df.trending_date\n",
    "df.trending_date = [d.date() for d in pd.to_datetime(dates)]\n",
    "\n",
    "\n",
    "# Extract month and year from review dates\n",
    "df['t_month_year'] = pd.to_datetime(df['trending_date']).dt.to_period('M')"
   ]
  },
  {
   "cell_type": "code",
   "execution_count": 14,
   "id": "f602b497",
   "metadata": {},
   "outputs": [
    {
     "data": {
      "text/plain": [
       "False    50463\n",
       "True       328\n",
       "Name: ratings_disabled, dtype: int64"
      ]
     },
     "execution_count": 14,
     "metadata": {},
     "output_type": "execute_result"
    }
   ],
   "source": [
    "df.head()\n",
    "\n",
    "\n",
    "df.ratings_disabled.value_counts()"
   ]
  },
  {
   "cell_type": "markdown",
   "id": "published-decrease",
   "metadata": {},
   "source": [
    "### df1"
   ]
  },
  {
   "cell_type": "code",
   "execution_count": 15,
   "id": "60a80cf7",
   "metadata": {
    "cell_style": "center",
    "scrolled": false
   },
   "outputs": [
    {
     "data": {
      "text/html": [
       "<div>\n",
       "<style scoped>\n",
       "    .dataframe tbody tr th:only-of-type {\n",
       "        vertical-align: middle;\n",
       "    }\n",
       "\n",
       "    .dataframe tbody tr th {\n",
       "        vertical-align: top;\n",
       "    }\n",
       "\n",
       "    .dataframe thead th {\n",
       "        text-align: right;\n",
       "    }\n",
       "</style>\n",
       "<table border=\"1\" class=\"dataframe\">\n",
       "  <thead>\n",
       "    <tr style=\"text-align: right;\">\n",
       "      <th></th>\n",
       "      <th>title</th>\n",
       "      <th>publishedAt</th>\n",
       "      <th>category</th>\n",
       "      <th>channelTitle</th>\n",
       "      <th>trending_date</th>\n",
       "      <th>tags</th>\n",
       "      <th>view_count</th>\n",
       "      <th>likes</th>\n",
       "      <th>dislikes</th>\n",
       "      <th>comment_count</th>\n",
       "      <th>p_year</th>\n",
       "      <th>p_month</th>\n",
       "      <th>p_day</th>\n",
       "      <th>p_month_year</th>\n",
       "      <th>t_year</th>\n",
       "      <th>t_month</th>\n",
       "      <th>t_day</th>\n",
       "      <th>t_month_year</th>\n",
       "    </tr>\n",
       "  </thead>\n",
       "  <tbody>\n",
       "    <tr>\n",
       "      <th>0</th>\n",
       "      <td>I ASKED HER TO BE MY GIRLFRIEND...</td>\n",
       "      <td>2020-08-11</td>\n",
       "      <td>People &amp; Blogs</td>\n",
       "      <td>Brawadis</td>\n",
       "      <td>2020-08-12</td>\n",
       "      <td>brawadis|prank|basketball|skits|ghost|funny vi...</td>\n",
       "      <td>1514614</td>\n",
       "      <td>156908</td>\n",
       "      <td>5855</td>\n",
       "      <td>35313</td>\n",
       "      <td>2020</td>\n",
       "      <td>08</td>\n",
       "      <td>11</td>\n",
       "      <td>2020-08</td>\n",
       "      <td>2020</td>\n",
       "      <td>08</td>\n",
       "      <td>12</td>\n",
       "      <td>2020-08</td>\n",
       "    </tr>\n",
       "    <tr>\n",
       "      <th>1</th>\n",
       "      <td>Apex Legends | Stories from the Outlands – “Th...</td>\n",
       "      <td>2020-08-11</td>\n",
       "      <td>Gaming</td>\n",
       "      <td>Apex Legends</td>\n",
       "      <td>2020-08-12</td>\n",
       "      <td>Apex Legends|Apex Legends characters|new Apex ...</td>\n",
       "      <td>2381688</td>\n",
       "      <td>146739</td>\n",
       "      <td>2794</td>\n",
       "      <td>16549</td>\n",
       "      <td>2020</td>\n",
       "      <td>08</td>\n",
       "      <td>11</td>\n",
       "      <td>2020-08</td>\n",
       "      <td>2020</td>\n",
       "      <td>08</td>\n",
       "      <td>12</td>\n",
       "      <td>2020-08</td>\n",
       "    </tr>\n",
       "    <tr>\n",
       "      <th>2</th>\n",
       "      <td>I left youtube for a month and THIS is what ha...</td>\n",
       "      <td>2020-08-11</td>\n",
       "      <td>Entertainment</td>\n",
       "      <td>jacksepticeye</td>\n",
       "      <td>2020-08-12</td>\n",
       "      <td>jacksepticeye|funny|funny meme|memes|jacksepti...</td>\n",
       "      <td>2038853</td>\n",
       "      <td>353787</td>\n",
       "      <td>2628</td>\n",
       "      <td>40221</td>\n",
       "      <td>2020</td>\n",
       "      <td>08</td>\n",
       "      <td>11</td>\n",
       "      <td>2020-08</td>\n",
       "      <td>2020</td>\n",
       "      <td>08</td>\n",
       "      <td>12</td>\n",
       "      <td>2020-08</td>\n",
       "    </tr>\n",
       "    <tr>\n",
       "      <th>3</th>\n",
       "      <td>XXL 2020 Freshman Class Revealed - Official An...</td>\n",
       "      <td>2020-08-11</td>\n",
       "      <td>Music</td>\n",
       "      <td>XXL</td>\n",
       "      <td>2020-08-12</td>\n",
       "      <td>xxl freshman|xxl freshmen|2020 xxl freshman|20...</td>\n",
       "      <td>496771</td>\n",
       "      <td>23251</td>\n",
       "      <td>1856</td>\n",
       "      <td>7647</td>\n",
       "      <td>2020</td>\n",
       "      <td>08</td>\n",
       "      <td>11</td>\n",
       "      <td>2020-08</td>\n",
       "      <td>2020</td>\n",
       "      <td>08</td>\n",
       "      <td>12</td>\n",
       "      <td>2020-08</td>\n",
       "    </tr>\n",
       "    <tr>\n",
       "      <th>4</th>\n",
       "      <td>Ultimate DIY Home Movie Theater for The LaBran...</td>\n",
       "      <td>2020-08-11</td>\n",
       "      <td>Howto &amp; Style</td>\n",
       "      <td>Mr. Kate</td>\n",
       "      <td>2020-08-12</td>\n",
       "      <td>The LaBrant Family|DIY|Interior Design|Makeove...</td>\n",
       "      <td>1123889</td>\n",
       "      <td>45802</td>\n",
       "      <td>964</td>\n",
       "      <td>2196</td>\n",
       "      <td>2020</td>\n",
       "      <td>08</td>\n",
       "      <td>11</td>\n",
       "      <td>2020-08</td>\n",
       "      <td>2020</td>\n",
       "      <td>08</td>\n",
       "      <td>12</td>\n",
       "      <td>2020-08</td>\n",
       "    </tr>\n",
       "  </tbody>\n",
       "</table>\n",
       "</div>"
      ],
      "text/plain": [
       "                                               title publishedAt  \\\n",
       "0                 I ASKED HER TO BE MY GIRLFRIEND...  2020-08-11   \n",
       "1  Apex Legends | Stories from the Outlands – “Th...  2020-08-11   \n",
       "2  I left youtube for a month and THIS is what ha...  2020-08-11   \n",
       "3  XXL 2020 Freshman Class Revealed - Official An...  2020-08-11   \n",
       "4  Ultimate DIY Home Movie Theater for The LaBran...  2020-08-11   \n",
       "\n",
       "         category   channelTitle trending_date  \\\n",
       "0  People & Blogs       Brawadis    2020-08-12   \n",
       "1          Gaming   Apex Legends    2020-08-12   \n",
       "2   Entertainment  jacksepticeye    2020-08-12   \n",
       "3           Music            XXL    2020-08-12   \n",
       "4   Howto & Style       Mr. Kate    2020-08-12   \n",
       "\n",
       "                                                tags  view_count   likes  \\\n",
       "0  brawadis|prank|basketball|skits|ghost|funny vi...     1514614  156908   \n",
       "1  Apex Legends|Apex Legends characters|new Apex ...     2381688  146739   \n",
       "2  jacksepticeye|funny|funny meme|memes|jacksepti...     2038853  353787   \n",
       "3  xxl freshman|xxl freshmen|2020 xxl freshman|20...      496771   23251   \n",
       "4  The LaBrant Family|DIY|Interior Design|Makeove...     1123889   45802   \n",
       "\n",
       "   dislikes  comment_count p_year p_month p_day p_month_year t_year t_month  \\\n",
       "0      5855          35313   2020      08    11      2020-08   2020      08   \n",
       "1      2794          16549   2020      08    11      2020-08   2020      08   \n",
       "2      2628          40221   2020      08    11      2020-08   2020      08   \n",
       "3      1856           7647   2020      08    11      2020-08   2020      08   \n",
       "4       964           2196   2020      08    11      2020-08   2020      08   \n",
       "\n",
       "  t_day t_month_year  \n",
       "0    12      2020-08  \n",
       "1    12      2020-08  \n",
       "2    12      2020-08  \n",
       "3    12      2020-08  \n",
       "4    12      2020-08  "
      ]
     },
     "execution_count": 15,
     "metadata": {},
     "output_type": "execute_result"
    }
   ],
   "source": [
    "df1 = df.copy()\n",
    "\n",
    "df1 = df1[(df1.ratings_disabled == False) & (df1.comments_disabled == False)]\n",
    "\n",
    "df1=df1.drop(['video_id','channelId','categoryId','thumbnail_link','comments_disabled','ratings_disabled','description'], axis=1)\n",
    "\n",
    "df1.head()"
   ]
  },
  {
   "cell_type": "markdown",
   "id": "7be3d2f3",
   "metadata": {},
   "source": [
    "## Visualization"
   ]
  },
  {
   "cell_type": "code",
   "execution_count": 16,
   "id": "certain-stage",
   "metadata": {
    "code_folding": []
   },
   "outputs": [],
   "source": [
    "# plt.style.available"
   ]
  },
  {
   "cell_type": "markdown",
   "id": "severe-brick",
   "metadata": {},
   "source": [
    "### Heatmap"
   ]
  },
  {
   "cell_type": "code",
   "execution_count": 17,
   "id": "occupational-laptop",
   "metadata": {},
   "outputs": [],
   "source": [
    "# sns.heatmap"
   ]
  },
  {
   "cell_type": "code",
   "execution_count": 18,
   "id": "forty-branch",
   "metadata": {
    "scrolled": false
   },
   "outputs": [
    {
     "data": {
      "text/plain": [
       "<matplotlib.axes._subplots.AxesSubplot at 0x7fac388d77f0>"
      ]
     },
     "execution_count": 18,
     "metadata": {},
     "output_type": "execute_result"
    },
    {
     "data": {
      "image/png": "[encoded data removed]",
      "text/plain": [
       "<Figure size 432x288 with 2 Axes>"
      ]
     },
     "metadata": {
      "needs_background": "light"
     },
     "output_type": "display_data"
    }
   ],
   "source": [
    "#review \n",
    "\n",
    "#positive correlation\n",
    "#view count : likes highly correlated\n",
    "\n",
    "correlation = df1[['view_count', 'comment_count', 'likes', 'dislikes']].corr()\n",
    "sns.heatmap(correlation, annot=True, linewidths=2, linecolor='black', cmap=\"coolwarm\")"
   ]
  },
  {
   "cell_type": "markdown",
   "id": "subtle-royal",
   "metadata": {},
   "source": [
    "### Top 10 Most Uploaded Categories & Channels"
   ]
  },
  {
   "cell_type": "code",
   "execution_count": 19,
   "id": "c4560e78",
   "metadata": {
    "code_folding": [
     0
    ],
    "scrolled": false
   },
   "outputs": [
    {
     "data": {
      "image/png": "[encoded data removed]",
      "text/plain": [
       "<Figure size 1440x720 with 2 Axes>"
      ]
     },
     "metadata": {},
     "output_type": "display_data"
    }
   ],
   "source": [
    "# todo - fix x axis '# of views'\n",
    "\n",
    "plt.style.use('fivethirtyeight')\n",
    "plt.figure(figsize=(20,10))\n",
    "pad = 10\n",
    "# n = 3\n",
    "# c = np.random.rand(n)\n",
    "\n",
    "# plot 10 most viewed categories\n",
    "ax1 = plt.subplot(1,2,1)\n",
    "\n",
    "\n",
    "# sort top 10 category values \n",
    "top_cat = df1.category.value_counts()[:10].sort_values()\n",
    "\n",
    "# set max color\n",
    "cat_co = ['grey' if (x < max(top_cat)) else 'red' for x in top_cat ]\n",
    "\n",
    "top_cat.plot(kind='barh', width=0.9, ax=ax1, color=cat_co)\n",
    "\n",
    "# ax1.set_xlabel('Number of Views', labelpad=pad)\n",
    "ax1.set_xlabel('Count', labelpad=pad)\n",
    "ax1.set_title('Top 10 Most Uploaded Categories', fontsize=20)\n",
    "\n",
    "\n",
    "# plot 10 most viewed channels \n",
    "ax2 = plt.subplot(1,2,2)\n",
    "\n",
    "top_chan = df1.channelTitle.value_counts()[:10].sort_values()\n",
    "\n",
    "# set max color\n",
    "chan_co = ['grey' if (x < max(top_chan)) else 'red' for x in top_chan ]\n",
    "\n",
    "top_chan.plot(kind='barh', width=0.9, ax=ax2, color=chan_co)\n",
    "\n",
    "\n",
    "# ax2.set_xlabel('Number of Views', labelpad=pad)\n",
    "ax2.set_xlabel('Count', labelpad=pad)\n",
    "ax2.set_title('Top 10 Most Uploaded Channels', fontsize=20)\n",
    "\n",
    "sns.despine(top=True, right=True)\n",
    "plt.tight_layout()\n",
    "# plt.show()"
   ]
  },
  {
   "cell_type": "markdown",
   "id": "adequate-envelope",
   "metadata": {},
   "source": [
    "### df2"
   ]
  },
  {
   "cell_type": "code",
   "execution_count": 20,
   "id": "adverse-realtor",
   "metadata": {},
   "outputs": [
    {
     "ename": "NameError",
     "evalue": "name 'df2' is not defined",
     "output_type": "error",
     "traceback": [
      "\u001b[0;31m---------------------------------------------------------------------------\u001b[0m",
      "\u001b[0;31mNameError\u001b[0m                                 Traceback (most recent call last)",
      "\u001b[0;32m<ipython-input-20-0319eb74775a>\u001b[0m in \u001b[0;36m<module>\u001b[0;34m\u001b[0m\n\u001b[1;32m      4\u001b[0m \u001b[0;34m\u001b[0m\u001b[0m\n\u001b[1;32m      5\u001b[0m \u001b[0;34m\u001b[0m\u001b[0m\n\u001b[0;32m----> 6\u001b[0;31m \u001b[0msns\u001b[0m\u001b[0;34m.\u001b[0m\u001b[0mcountplot\u001b[0m\u001b[0;34m(\u001b[0m\u001b[0mx\u001b[0m\u001b[0;34m=\u001b[0m\u001b[0;34m'category'\u001b[0m\u001b[0;34m,\u001b[0m \u001b[0mdata\u001b[0m\u001b[0;34m=\u001b[0m\u001b[0mdf2\u001b[0m\u001b[0;34m,\u001b[0m \u001b[0mpalette\u001b[0m\u001b[0;34m=\u001b[0m\u001b[0;34m'icefire'\u001b[0m\u001b[0;34m,\u001b[0m \u001b[0mdodge\u001b[0m\u001b[0;34m=\u001b[0m\u001b[0;32mFalse\u001b[0m\u001b[0;34m)\u001b[0m\u001b[0;34m\u001b[0m\u001b[0;34m\u001b[0m\u001b[0m\n\u001b[0m\u001b[1;32m      7\u001b[0m \u001b[0;31m# sns.boxplot(x='view_count', y='category', data=df2, hue=df2['category'], orient=\"h\")\u001b[0m\u001b[0;34m\u001b[0m\u001b[0;34m\u001b[0m\u001b[0;34m\u001b[0m\u001b[0m\n\u001b[1;32m      8\u001b[0m \u001b[0;34m\u001b[0m\u001b[0m\n",
      "\u001b[0;31mNameError\u001b[0m: name 'df2' is not defined"
     ]
    },
    {
     "data": {
      "text/plain": [
       "<Figure size 864x360 with 0 Axes>"
      ]
     },
     "metadata": {},
     "output_type": "display_data"
    }
   ],
   "source": [
    "plt.style.use('seaborn-darkgrid')\n",
    "\n",
    "plt.figure(figsize=(12,5))\n",
    "\n",
    "\n",
    "sns.countplot(x='category', data=df2, palette='icefire', dodge=False)\n",
    "# sns.boxplot(x='view_count', y='category', data=df2, hue=df2['category'], orient=\"h\")\n",
    "\n",
    "plt.xticks(rotation=45)\n",
    "\n",
    "plt.title('All Uploaded Videos by Category')\n",
    "plt.ylim(0,None)\n",
    "plt.tight_layout()"
   ]
  },
  {
   "cell_type": "markdown",
   "id": "automated-catalyst",
   "metadata": {},
   "source": [
    "# Most Views "
   ]
  },
  {
   "cell_type": "code",
   "execution_count": null,
   "id": "postal-packing",
   "metadata": {},
   "outputs": [],
   "source": [
    "df2 = df1.copy()\n",
    "df2 = df2.drop(['p_year','p_month','p_day','p_month_year','t_year','t_month','t_day','t_month_year','publishedAt','title','channelTitle','tags'], axis=1)"
   ]
  },
  {
   "cell_type": "code",
   "execution_count": null,
   "id": "advised-marks",
   "metadata": {
    "cell_style": "center"
   },
   "outputs": [],
   "source": [
    "byCat_nlargest = df2.groupby(by=['category'])['view_count'].sum().nlargest()\n",
    "\n",
    "byCat_nlargest\n",
    "\n",
    "# byCat = byCat.sum().styble.format('{0:,.0f}')"
   ]
  },
  {
   "cell_type": "code",
   "execution_count": null,
   "id": "competitive-ladder",
   "metadata": {
    "cell_style": "center",
    "code_folding": [],
    "scrolled": false
   },
   "outputs": [],
   "source": [
    "byCat0 = df2.groupby('category').sum()\n",
    "\n",
    "byCat = df2.groupby('category').sum().style.format('{0:,.0f}')\n",
    "\n",
    "byCat.highlight_max(color='hsla(116, 68%, 64%, 1)')\n",
    "byCat.highlight_min(color='hsla(2, 100%, 71%, 1)')\n",
    "\n",
    "\n",
    "# def highlight(val):\n",
    "#     yellow = 'background-color: yellow' if val > 1000**3.5 else ''\n",
    "# #     yellow = 'background-color: yellow' if val >  else ''\n",
    "#     return yellow\n",
    "\n",
    "# byCat.applymap(highlight)"
   ]
  },
  {
   "cell_type": "code",
   "execution_count": null,
   "id": "julian-fisher",
   "metadata": {
    "code_folding": [
     0
    ],
    "scrolled": false
   },
   "outputs": [],
   "source": [
    "# top_5 = top_cat.drop(['Autos & Vehicles','Science & Technology','Howto & Style','Comedy'])\n",
    "\n",
    "# top_5"
   ]
  },
  {
   "cell_type": "code",
   "execution_count": null,
   "id": "improved-sheep",
   "metadata": {},
   "outputs": [],
   "source": [
    "# plt.style.available"
   ]
  },
  {
   "cell_type": "code",
   "execution_count": null,
   "id": "regional-ebony",
   "metadata": {},
   "outputs": [],
   "source": [
    "sns.boxplot"
   ]
  },
  {
   "cell_type": "code",
   "execution_count": null,
   "id": "unsigned-delight",
   "metadata": {},
   "outputs": [],
   "source": [
    "df2_sorted = df2.sort_values('view_count', ascending=False)\n",
    "\n",
    "# reset index bc category is the index due to groupby\n",
    "df2_grouped = df2_sorted.groupby('category').sum().reset_index().sort_values('view_count', ascending=False)"
   ]
  },
  {
   "cell_type": "code",
   "execution_count": null,
   "id": "naughty-infrared",
   "metadata": {},
   "outputs": [],
   "source": [
    "plt.style.use('default')\n",
    "\n",
    "plt.figure(figsize=(12,5))\n",
    "\n",
    "sns.barplot(x='category', y='view_count', data=df2_grouped, palette='rocket', dodge=False)\n",
    "\n",
    "# plt.ticklabel_format(style='sci', axis='y', scilimits=(0,100000000000))\n",
    "plt.ticklabel_format(style='sci', axis='y', scilimits=(0,10**10))\n",
    "plt.xticks(rotation=45)\n",
    "plt.ylim(0,None)\n",
    "plt.tight_layout()"
   ]
  },
  {
   "cell_type": "code",
   "execution_count": null,
   "id": "statewide-breakdown",
   "metadata": {},
   "outputs": [],
   "source": [
    "sns.violinplot"
   ]
  },
  {
   "cell_type": "code",
   "execution_count": null,
   "id": "viral-drunk",
   "metadata": {},
   "outputs": [],
   "source": [
    "df2_sorted.info()"
   ]
  },
  {
   "cell_type": "code",
   "execution_count": null,
   "id": "ultimate-mailing",
   "metadata": {
    "scrolled": false
   },
   "outputs": [],
   "source": [
    "data=df2_sorted\n",
    "plt.style.use('default')\n",
    "plt.figure(figsize=(12,5))\n",
    "\n",
    "# y_values = data[\"view_count\"].values\n",
    "\n",
    "\n",
    "sns.boxplot(\n",
    "    x='view_count', \n",
    "    y='category', \n",
    "    data=data, \n",
    "#     hue=df2_sorted['category'], \n",
    "    showfliers=False,\n",
    "    linewidth=.5, \n",
    "    palette='Paired', \n",
    "    dodge=False, \n",
    "    whis=1.5,\n",
    "    orient='h',\n",
    ")\n",
    "\n",
    "\n",
    "sns.despine(offset=10, trim=True)\n",
    "\n",
    "plt.xlim(0,None)\n",
    "plt.xticks(rotation=45)\n",
    "plt.tight_layout()"
   ]
  },
  {
   "cell_type": "code",
   "execution_count": null,
   "id": "82f9eb43",
   "metadata": {},
   "outputs": [],
   "source": [
    "plt.figure(figsize=(12,10))\n",
    "\n",
    "# plot average views per category \n",
    "ax = df1.groupby('category').view_count.mean().sort_values().plot.barh(width=0.9)\n",
    "ax.set_title('Average Views per Category', fontsize=15)\n",
    "ax.set_ylabel('')\n",
    "ax.set_xlabel('Average View')\n",
    "sns.despine(top=True, right=True)\n",
    "\n",
    "# xreate a list to collect the plt.patches data\n",
    "totals = []\n",
    "\n",
    "# find the values and append to list\n",
    "for i in ax.patches:\n",
    "    totals.append(i.get_width())\n",
    "\n",
    "# set individual bar lables using above list\n",
    "total = sum(totals)\n",
    "\n",
    "# set individual bar lables using above list\n",
    "for i in ax.patches:\n",
    "    # Get_width pulls left or right; get_y pushes up or down\n",
    "    ax.text(i.get_width()-0.5, i.get_y()+.3, \\\n",
    "            str(round((i.get_width()), 2)), fontsize=15,\n",
    "color='black')\n",
    "\n",
    "plt.show()\n"
   ]
  },
  {
   "cell_type": "code",
   "execution_count": null,
   "id": "electronic-wrapping",
   "metadata": {
    "code_folding": [
     0
    ]
   },
   "outputs": [],
   "source": [
    "# data=df2_sorted\n",
    "# plt.style.use('default')\n",
    "# plt.figure(figsize=(12,12))\n",
    "\n",
    "# sns.violinplot(\n",
    "#     x='category', \n",
    "#     y='view_count', \n",
    "# #     y=np.log('view_count'),\n",
    "#     data=data, \n",
    "#     linewidth=.5, \n",
    "#     palette='Paired',\n",
    "#     dodge=False, \n",
    "#     orient='v',\n",
    "#     style='whitegrid',\n",
    "#     cut=0,\n",
    "#     gridsize=100\n",
    "# )\n",
    "\n",
    "# #     inner='stick',\n",
    "# #     bw=.2,\n",
    "# #     scale_hue=False\n",
    "\n",
    "\n",
    "# sns.despine(offset=10, trim=True)\n",
    "\n",
    "# plt.ticklabel_format(style='sci', axis='y', scilimits=(0,10**4))\n",
    "# plt.ylim(0,None)\n",
    "# plt.xticks(rotation=45)\n",
    "# plt.tight_layout()"
   ]
  },
  {
   "cell_type": "code",
   "execution_count": null,
   "id": "macro-tourist",
   "metadata": {
    "scrolled": true
   },
   "outputs": [],
   "source": [
    "# highest view_count by item\n",
    "\n",
    "df2.sort_values('view_count', ascending=False)"
   ]
  },
  {
   "cell_type": "markdown",
   "id": "south-ancient",
   "metadata": {},
   "source": [
    "### API"
   ]
  },
  {
   "cell_type": "code",
   "execution_count": null,
   "id": "identical-brain",
   "metadata": {
    "scrolled": true
   },
   "outputs": [],
   "source": [
    "df.index[3358]\n",
    "\n",
    "# df.iloc[3358,:]\n",
    "\n",
    "df.iloc[3358,[0,5]]"
   ]
  },
  {
   "cell_type": "code",
   "execution_count": null,
   "id": "higher-return",
   "metadata": {},
   "outputs": [],
   "source": [
    "# from youtube_statistics import youTubeStats\n",
    "from config import API_KEY\n",
    "\n",
    "class youTubeStats:\n",
    "\n",
    "    def __init__(self, api_key, channel_id):\n",
    "        self.api_key = api_key\n",
    "        # assert isinstance(channel_id, object)\n",
    "        self.channel_id = channel_id\n",
    "\n",
    "    # noinspection PyTypeChecker\n",
    "    def get_channel_stats(self) -> object:\n",
    "        payload = 'snippet,statistics,status'\n",
    "        channels = 'https://www.googleapis.com/youtube/v3/channels'\n",
    "        url = f'{channels}?id={self.channel_id}&key={self.api_key}&part={payload}'\n",
    "        print(url)\n",
    "\n",
    "\n",
    "\n",
    "channel_id0: str = 'UCvtRTOMP2TqYqu51xNrqAzg'\n",
    "\n",
    "youtube = youTubeStats(API_KEY, channel_id0)\n",
    "youtube.get_channel_stats()"
   ]
  },
  {
   "cell_type": "code",
   "execution_count": null,
   "id": "dated-special",
   "metadata": {
    "scrolled": true
   },
   "outputs": [],
   "source": [
    "# df2_sorted.sort_values('view_count', ascending=True).groupby(['category']).apply(lambda x: x.sort_values(['view_count'], ascending=False))\n",
    "# bySorted_views = df2.groupby(['category']).apply(lambda x: x.sort_values(['view_count'], ascending=False))\n",
    "\n",
    "\n",
    "# bySorted_views\n",
    "# bySorted_views.reset_index(drop=True)\n"
   ]
  },
  {
   "cell_type": "code",
   "execution_count": null,
   "id": "eastern-liechtenstein",
   "metadata": {},
   "outputs": [],
   "source": [
    "df1.groupby('title').view_count.sum()"
   ]
  },
  {
   "cell_type": "markdown",
   "id": "nuclear-symphony",
   "metadata": {},
   "source": [
    "## 20% of vids viewed at most a million times \n",
    "## 75% of vids viewed at most 10 million times \n"
   ]
  },
  {
   "cell_type": "code",
   "execution_count": null,
   "id": "55838c7f",
   "metadata": {},
   "outputs": [],
   "source": [
    "# Empirical cumulative distribution functions\n",
    "def ecdf(data):\n",
    "    \"\"\"Compute ECDF for a one-dimensional array of measurements.\"\"\"\n",
    "    \n",
    "    # Number of data points: n\n",
    "    n = len(data)\n",
    "\n",
    "    # x-data for the ECDF: x\n",
    "    x = np.sort(data)\n",
    "    \n",
    "\n",
    "    # y-data for the ECDF: y\n",
    "    \n",
    "    y = np.arange(1, n + 1) / n\n",
    "\n",
    "    return x, y\n",
    "\n",
    "plt.figure(figsize=(20,5))\n",
    "\n",
    "\n",
    "# Plot cumulative distribution of views per video\n",
    "x, y = ecdf(df1.groupby('title').view_count.sum())\n",
    "\n",
    "ax2 = plt.subplot(1,2,1)\n",
    "ax2.set_xlabel('Amount of Views')\n",
    "\n",
    "ax2.plot(x, y, marker='.', linestyle='none')\n",
    "ax2.set_xscale('log');\n",
    "ax2.set_title('Cumulative Distribution of Views per Video', fontsize=18)\n",
    "\n",
    "\n",
    "# plt.show()"
   ]
  },
  {
   "cell_type": "markdown",
   "id": "worse-jewel",
   "metadata": {},
   "source": [
    "### 55% of all channels have been views 10^7 (10 Million)"
   ]
  },
  {
   "cell_type": "code",
   "execution_count": null,
   "id": "statistical-blame",
   "metadata": {},
   "outputs": [],
   "source": [
    "plt.figure(figsize=(20,5))\n",
    "plt.style.use('default')\n",
    "\n",
    "# Plot cumulative distribution of views per channel \n",
    "x, y = ecdf(df1.groupby('channelTitle').view_count.sum())\n",
    "\n",
    "ax3 = plt.subplot(1,2,2)\n",
    "ax3.set_xlabel('Amount of Views')\n",
    "ax3.plot(x, y, marker='.', linestyle='none')\n",
    "ax3.set_xscale('log');\n",
    "ax3.set_title('Cumulative Distribution of Views per Channel', fontsize=18)\n",
    "\n",
    "plt.scatter(10**7, .55, color='red', marker='D', s=100)\n",
    "# plt.annotate(\"Point 1\", (10**7, .55))\n",
    "plt.grid()\n",
    "sns.despine(top=True, right=True)\n",
    "plt.tight_layout()"
   ]
  },
  {
   "cell_type": "markdown",
   "id": "fb675698",
   "metadata": {},
   "source": [
    "### Top 15 Channels with highest views "
   ]
  },
  {
   "cell_type": "code",
   "execution_count": null,
   "id": "martial-grave",
   "metadata": {},
   "outputs": [],
   "source": [
    "# add style "
   ]
  },
  {
   "cell_type": "code",
   "execution_count": null,
   "id": "92aee1c7",
   "metadata": {
    "scrolled": false
   },
   "outputs": [],
   "source": [
    "plt.figure(figsize=(12,10))\n",
    "plt.style.use('fivethirtyeight')\n",
    "\n",
    "# average views per channel\n",
    "ax = df1.groupby('channelTitle').view_count.mean().sort_values()[-15:].plot.barh(width=0.9)\n",
    "ax.set_title('Average Views per Channel', fontsize=15)\n",
    "ax.set_ylabel('')\n",
    "ax.set_xlabel('Average View')\n",
    "sns.despine(top=True, right=True)\n",
    "\n",
    "# Create a list to collect the plt.patches data\n",
    "totals = []\n",
    "\n",
    "# Find the values and append to list\n",
    "for i in ax.patches:\n",
    "    totals.append(i.get_width())\n",
    "\n",
    "# Set individual bar lables using above list\n",
    "total = sum(totals)\n",
    "\n",
    "# Set individual bar lables using above list\n",
    "for i in ax.patches:\n",
    "    # Get_width pulls left or right; get_y pushes up or down\n",
    "    ax.text(i.get_width()-0.5, i.get_y()+.3, \\\n",
    "            str(round((i.get_width()), 2)), fontsize=15,\n",
    "color='black')\n",
    "\n",
    "# plt.show()"
   ]
  },
  {
   "cell_type": "markdown",
   "id": "6f5ac307",
   "metadata": {},
   "source": [
    "### fig 2 – Average Views per Category"
   ]
  },
  {
   "cell_type": "markdown",
   "id": "c0fa9cd6",
   "metadata": {},
   "source": [
    "### fig 3 Average Comments per Category"
   ]
  },
  {
   "cell_type": "code",
   "execution_count": null,
   "id": "135cd86c",
   "metadata": {},
   "outputs": [],
   "source": [
    "plt.figure(figsize=(12,10))\n",
    "\n",
    "# Plot average \n",
    "ax = df1.groupby('category').comment_count.mean().sort_values().plot.barh(width=0.9)\n",
    "ax.set_title('Average Comments per Category', fontsize=15)\n",
    "ax.set_ylabel('')\n",
    "ax.set_xlabel('Average View')\n",
    "sns.despine(top=True, right=True)\n",
    "\n",
    "# Create a list to collect the plt.patches data\n",
    "totals = []\n",
    "\n",
    "# Find the values and append to list\n",
    "for i in ax.patches:\n",
    "    totals.append(i.get_width())\n",
    "\n",
    "# Set individual bar lables using above list\n",
    "total = sum(totals)\n",
    "\n",
    "# Set individual bar lables using above list\n",
    "for i in ax.patches:\n",
    "    # Get_width pulls left or right; get_y pushes up or down\n",
    "    ax.text(i.get_width()-0.5, i.get_y()+.3, \\\n",
    "            str(round((i.get_width()), 2)), fontsize=15,\n",
    "color='black')\n",
    "\n",
    "plt.show()"
   ]
  },
  {
   "cell_type": "markdown",
   "id": "4ec1d0cb",
   "metadata": {},
   "source": [
    "### fig 4 Average Views per Video"
   ]
  },
  {
   "cell_type": "code",
   "execution_count": null,
   "id": "negative-batch",
   "metadata": {},
   "outputs": [],
   "source": [
    "# # add colors fo each colors\n",
    "# plt.figure(figsize=(12,10))\n",
    "\n",
    "# # Plot average views per title\n",
    "# ax = df1.groupby(['title','category']).view_count.mean().sort_values()[:15].plot.barh(width=0.9)\n",
    "# ax.set_title('Average Views per Video', fontsize=15)\n",
    "# ax.set_ylabel('')\n",
    "# ax.set_xlabel('Average View')\n",
    "# sns.despine(top=True, right=True)\n",
    "\n",
    "# # Create a list to collect the plt.patches data\n",
    "# totals = []\n",
    "\n",
    "# # Find the values and append to list\n",
    "# for i in ax.patches:\n",
    "#     totals.append(i.get_width())\n",
    "\n",
    "# # Set individual bar lables using above list\n",
    "# total = sum(totals)\n",
    "\n",
    "# # Set individual bar lables using above list\n",
    "# for i in ax.patches:\n",
    "#     # Get_width pulls left or right; get_y pushes up or down\n",
    "#     ax.text(i.get_width()-0.5, i.get_y()+.3, \\\n",
    "#             str(round((i.get_width()), 2)), fontsize=15,\n",
    "# color='black')\n",
    "\n",
    "# plt.show()\n"
   ]
  },
  {
   "cell_type": "code",
   "execution_count": null,
   "id": "therapeutic-warren",
   "metadata": {
    "scrolled": false
   },
   "outputs": [],
   "source": [
    "# review how to incorporate title\n",
    "\n",
    "# for i, cat in enumerate(cat_list):\n",
    "#     correlation = df1[df1.category == cat][['view_count', 'comment_count', 'likes', 'dislikes']].corr()\n",
    "#     sns.heatmap(correlation)\n",
    "#     plt.show()"
   ]
  },
  {
   "cell_type": "code",
   "execution_count": null,
   "id": "conventional-given",
   "metadata": {
    "scrolled": true
   },
   "outputs": [],
   "source": [
    "\n",
    "\n",
    "\n",
    "\n",
    "p_grouped = df1.groupby('p_month_year').mean().reset_index()\n",
    "t_grouped = df1.groupby('t_month_year').mean().reset_index()\n",
    "\n"
   ]
  },
  {
   "cell_type": "code",
   "execution_count": null,
   "id": "focal-disposal",
   "metadata": {
    "scrolled": false
   },
   "outputs": [],
   "source": [
    "type(p_grouped.p_month_year.dt.month[0])"
   ]
  },
  {
   "cell_type": "code",
   "execution_count": null,
   "id": "compressed-adventure",
   "metadata": {},
   "outputs": [],
   "source": [
    "p_grouped.p_month_year = str(p_grouped.p_month_year)\n",
    "t_grouped.t_month_year = str(t_grouped.t_month_year)\n",
    "\n",
    "p_grouped.p_month_year[0] = '202008'\n",
    "p_grouped.p_month_year[1] = '202009'\n",
    "p_grouped.p_month_year[2] = '202008'\n",
    "p_grouped.p_month_year[3] = '202010'\n",
    "p_grouped.p_month_year[4] = '202011'\n",
    "p_grouped.p_month_year[5] = '202012'\n",
    "p_grouped.p_month_year[6] = '202101'\n",
    "p_grouped.p_month_year[7] = '202102'\n",
    "p_grouped.p_month_year[8] = '202103'\n",
    "# p_grouped.p_month_year[9] = '2021-04'\n",
    "\n",
    "p_grouped.p_month_year = pd.to_datetime(p_grouped.p_month_year)\n",
    "\n",
    "t_grouped.t_month_year[0] = '2020-08'\n",
    "t_grouped.t_month_year[1] = '2020-09'\n",
    "t_grouped.t_month_year[2] = '2020-08'\n",
    "t_grouped.t_month_year[3] = '2020-10'\n",
    "t_grouped.t_month_year[4] = '2020-11'\n",
    "t_grouped.t_month_year[5] = '2020-12'\n",
    "t_grouped.t_month_year[6] = '2021-01'\n",
    "t_grouped.t_month_year[7] = '2021-02'\n",
    "t_grouped.t_month_year[8] = '2021-03'\n",
    "# t_grouped.t_month_year[9] = '2021-04'"
   ]
  },
  {
   "cell_type": "code",
   "execution_count": null,
   "id": "restricted-science",
   "metadata": {
    "scrolled": false
   },
   "outputs": [],
   "source": [
    "# df['col_name'] = pd.to_numeric(df['col_name'], errors='coerce')\n",
    "\n",
    "\n",
    "#bug \n",
    "\n",
    "plt.plot('p_month_year', 'view_count', data=p_grouped, linewidth=2)\n",
    "\n",
    "# p_grouped.reset_index(inplace=True)\n",
    "\n",
    "# p_grouped['p_month_year'] = pd.datetime.timestamp(df.p_month_year)\n",
    "# p_grouped.set_index('month_year', inplace=True)\n",
    "\n",
    "# plt.figure()\n",
    "\n",
    "# ax1 = plt.subplot(2,2,1)\n",
    "\n",
    "# ax1.plot('t_month_year', 'view_count', data=t_grouped, linewidth=2)\n",
    "\n",
    "\n",
    "# ax2 = plt.subplot(2,2,2)\n",
    "# ax2.plot('p_month_year', 'comment_count', data=p_grouped, linewidth=2)\n",
    "# ax2.plot('t_month_year', 'comment_count', data=p_grouped, linewidth=2)\n",
    "\n",
    "# ax3 = plt.subplot(2,2,3)\n",
    "# ax3.plot('p_month_year', 'likes', data=p_grouped, linewidth=2)\n",
    "# ax3.plot('t_month_year', 'likes', data=p_grouped, linewidth=2)\n",
    "\n",
    "# ax4 = plt.subplot(2,2,4)\n",
    "# ax4.plot('p_month_year', 'dislikes', data=p_grouped, linewidth=2)\n",
    "# ax4.plot('t_month_year', 'dislikes', data=p_grouped, linewidth=2)\n",
    "\n",
    "plt.show()\n"
   ]
  },
  {
   "cell_type": "code",
   "execution_count": null,
   "id": "minus-diagram",
   "metadata": {},
   "outputs": [],
   "source": [
    "# create line graph \n",
    "#x\n",
    "p_grouped\n",
    "\n"
   ]
  },
  {
   "cell_type": "code",
   "execution_count": null,
   "id": "american-carolina",
   "metadata": {
    "scrolled": true
   },
   "outputs": [],
   "source": [
    "\n",
    "grouped = df1.groupby(['category']).sum()\n",
    "\n",
    "# stacked bar graph by category to show\n",
    "\n",
    "grouped.T.reset_index()\n"
   ]
  },
  {
   "cell_type": "code",
   "execution_count": null,
   "id": "saved-plate",
   "metadata": {},
   "outputs": [],
   "source": [
    "# show the change in average views/counts/l/d for published and trending  \n",
    "\n",
    "df1.groupby('p_month_year').mean().reset_index()\n",
    "df1.groupby('t_month_year').mean().reset_index()\n"
   ]
  },
  {
   "cell_type": "code",
   "execution_count": null,
   "id": "fundamental-statement",
   "metadata": {},
   "outputs": [],
   "source": [
    "df1.head()\n"
   ]
  },
  {
   "cell_type": "code",
   "execution_count": null,
   "id": "f3e94462",
   "metadata": {
    "scrolled": false
   },
   "outputs": [],
   "source": [
    "df1.info()\n"
   ]
  },
  {
   "cell_type": "code",
   "execution_count": null,
   "id": "8751e82c",
   "metadata": {
    "cell_style": "split"
   },
   "outputs": [],
   "source": [
    "# df.tags.value_counts()\n",
    "# adf.channelId.value_counts"
   ]
  },
  {
   "cell_type": "code",
   "execution_count": null,
   "id": "f754947f",
   "metadata": {},
   "outputs": [],
   "source": [
    "# "
   ]
  },
  {
   "cell_type": "code",
   "execution_count": null,
   "id": "hourly-aquatic",
   "metadata": {},
   "outputs": [],
   "source": [
    "# why are there dupe tags \n",
    "# look at individually each for 94, 77, 76, examine difference in view counts for videos \n",
    "df1.tags.value_counts()"
   ]
  },
  {
   "cell_type": "code",
   "execution_count": null,
   "id": "permanent-attendance",
   "metadata": {},
   "outputs": [],
   "source": [
    "# look at the difference from publsiuehd and trending views/likes ratio "
   ]
  },
  {
   "cell_type": "code",
   "execution_count": null,
   "id": "criminal-preliminary",
   "metadata": {},
   "outputs": [],
   "source": [
    "#combine (sum) rows that have same title/channel/date \n",
    "\n",
    "\n",
    "# counts / comment conunts, likes /dislikes \n"
   ]
  },
  {
   "cell_type": "code",
   "execution_count": null,
   "id": "psychological-compilation",
   "metadata": {},
   "outputs": [],
   "source": [
    "# https://seaborn.pydata.org/generated/seaborn.regplot.html"
   ]
  },
  {
   "cell_type": "code",
   "execution_count": null,
   "id": "intermediate-proceeding",
   "metadata": {},
   "outputs": [],
   "source": [
    "# sns.regplot(x='views', y='likes', data=df2_grouped)"
   ]
  }
 ],
 "metadata": {
  "kernelspec": {
   "display_name": "PythonData",
   "language": "python",
   "name": "pythondata"
  },
  "language_info": {
   "codemirror_mode": {
    "name": "ipython",
    "version": 3
   },
   "file_extension": ".py",
   "mimetype": "text/x-python",
   "name": "python",
   "nbconvert_exporter": "python",
   "pygments_lexer": "ipython3",
   "version": "3.6.10"
  },
  "toc": {
   "base_numbering": 1,
   "nav_menu": {},
   "number_sections": true,
   "sideBar": true,
   "skip_h1_title": false,
   "title_cell": "Table of Contents",
   "title_sidebar": "Contents",
   "toc_cell": false,
   "toc_position": {
    "height": "calc(100% - 180px)",
    "left": "10px",
    "top": "150px",
    "width": "191px"
   },
   "toc_section_display": true,
   "toc_window_display": true
  }
 },
 "nbformat": 4,
 "nbformat_minor": 5
}
