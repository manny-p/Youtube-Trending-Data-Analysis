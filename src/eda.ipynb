{
 "cells": [
  {
   "cell_type": "markdown",
   "id": "a95e4b78",
   "metadata": {
    "heading_collapsed": true
   },
   "source": [
    "# Title"
   ]
  },
  {
   "cell_type": "markdown",
   "id": "79e49e11",
   "metadata": {},
   "source": [
    "# Lib Import"
   ]
  },
  {
   "cell_type": "code",
   "execution_count": null,
   "id": "fallen-checklist",
   "metadata": {},
   "outputs": [],
   "source": [
    "import warnings\n",
    "warnings.filterwarnings('ignore')\n",
    "\n",
    "# Dependencies and Setup\n",
    "import matplotlib.pyplot as plt\n",
    "import pandas as pd\n",
    "import scipy.stats as st\n",
    "import numpy as np\n",
    "import seaborn as sns\n",
    "plt.style.use('seaborn')"
   ]
  },
  {
   "cell_type": "code",
   "execution_count": null,
   "id": "60df82b2",
   "metadata": {
    "scrolled": false
   },
   "outputs": [],
   "source": [
    "import streamlit as st\n",
    "\n",
    "\n",
    "st.write(\n",
    "'''\n",
    "# Hello World\n",
    "'''\n",
    ")"
   ]
  },
  {
   "cell_type": "markdown",
   "id": "e4155d52",
   "metadata": {},
   "source": [
    "# Data Collection"
   ]
  },
  {
   "cell_type": "code",
   "execution_count": null,
   "id": "liberal-formation",
   "metadata": {
    "scrolled": false
   },
   "outputs": [],
   "source": [
    "youtube_path = '../data/US_youtube_trending_data.csv'\n",
    "\n",
    "youtube = pd.read_csv(youtube_path)\n",
    "\n",
    "df = pd.DataFrame(youtube)"
   ]
  },
  {
   "cell_type": "markdown",
   "id": "0a12905a",
   "metadata": {},
   "source": [
    "## todos"
   ]
  },
  {
   "cell_type": "code",
   "execution_count": null,
   "id": "aeeab3de",
   "metadata": {},
   "outputs": [],
   "source": [
    "# add api"
   ]
  },
  {
   "cell_type": "code",
   "execution_count": null,
   "id": "64deb544",
   "metadata": {},
   "outputs": [],
   "source": [
    "# add json russia data"
   ]
  },
  {
   "cell_type": "code",
   "execution_count": null,
   "id": "ccd08eaf",
   "metadata": {},
   "outputs": [],
   "source": [
    "# add csv brazil data "
   ]
  },
  {
   "cell_type": "markdown",
   "id": "060891bc",
   "metadata": {},
   "source": [
    "# Data Processing "
   ]
  },
  {
   "cell_type": "markdown",
   "id": "de6511f7",
   "metadata": {},
   "source": [
    "## todos "
   ]
  },
  {
   "cell_type": "code",
   "execution_count": null,
   "id": "420da4bf",
   "metadata": {},
   "outputs": [],
   "source": [
    "# add bar graph for view / like counts category counts"
   ]
  },
  {
   "cell_type": "markdown",
   "id": "b44fa47d",
   "metadata": {},
   "source": [
    "## Inspect"
   ]
  },
  {
   "cell_type": "code",
   "execution_count": null,
   "id": "sweet-montgomery",
   "metadata": {},
   "outputs": [],
   "source": [
    "# inspect data\n",
    "df.head()"
   ]
  },
  {
   "cell_type": "markdown",
   "id": "7835cd72",
   "metadata": {},
   "source": [
    "## Clean"
   ]
  },
  {
   "cell_type": "code",
   "execution_count": null,
   "id": "59d303a5",
   "metadata": {},
   "outputs": [],
   "source": [
    "# add missing category str column\n",
    "df['category'] = ''"
   ]
  },
  {
   "cell_type": "code",
   "execution_count": null,
   "id": "a67e4cb2",
   "metadata": {
    "scrolled": true
   },
   "outputs": [],
   "source": [
    "# loop through category columnn, map int ids to str values, calc totals\n",
    "\n",
    "cat_list = ['Film & Animation', 'Autos & Vehicles', 'Music', 'Pets & Animals', \n",
    "             'Sports', 'Travel & Events', 'Gaming', 'People & Blogs', 'Comedy', \n",
    "             'Entertainment', 'News & Politics', 'Howto & Style', 'Education', \n",
    "             'Science & Technology', 'Nonprofits & Activism']\n",
    "\n",
    "for i,cat in enumerate(df.iterrows()):\n",
    "    if cat[1].categoryId == 2:\n",
    "        df.loc[i,'category'] = cat_list[0]\n",
    "    elif cat[1].categoryId == 1:\n",
    "        df.loc[i,'category'] = cat_list[1]\n",
    "    elif cat[1].categoryId == 10:\n",
    "        df.loc[i,'category'] = cat_list[2]\n",
    "    elif cat[1].categoryId == 15:\n",
    "        df.loc[i,'category'] = cat_list[3]\n",
    "    elif cat[1].categoryId == 17:\n",
    "        df.loc[i,'category'] = cat_list[4]\n",
    "    elif cat[1].categoryId == 19:\n",
    "        df.loc[i,'category'] = cat_list[5]\n",
    "    elif cat[1].categoryId == 20:\n",
    "        df.loc[i,'category'] = cat_list[6]\n",
    "    elif cat[1].categoryId == 22:\n",
    "        df.loc[i,'category'] = cat_list[7]\n",
    "    elif cat[1].categoryId == 23:\n",
    "        df.loc[i,'category'] = cat_list[8]\n",
    "    elif cat[1].categoryId == 24:\n",
    "        df.loc[i,'category'] = cat_list[9]\n",
    "    elif cat[1].categoryId == 25:\n",
    "        df.loc[i,'category'] = cat_list[10]\n",
    "    elif cat[1].categoryId == 26:\n",
    "        df.loc[i,'category'] = cat_list[11]\n",
    "    elif cat[1].categoryId == 27:\n",
    "        df.loc[i,'category'] = cat_list[12]\n",
    "        \n",
    "    elif cat[1].categoryId == 28:\n",
    "        df.loc[i,'category'] = cat_list[13]\n",
    "    elif cat[1].categoryId == 29:\n",
    "        df.loc[i,'category'] = cat_list[14]\n",
    "\n",
    "df.category.value_counts()"
   ]
  },
  {
   "cell_type": "code",
   "execution_count": null,
   "id": "17dc8052",
   "metadata": {},
   "outputs": [],
   "source": [
    "# reorder category column, place left of categoryId\n",
    "\n",
    "def move_column(df, cols_to_move=[], ref_col='', place='After'):\n",
    "    \n",
    "    cols = df.columns.tolist()\n",
    "    if place == 'After':\n",
    "        seg1 = cols[:list(cols).index(ref_col) + 1]\n",
    "        seg2 = cols_to_move\n",
    "    if place == 'Before':\n",
    "        seg1 = cols[:list(cols).index(ref_col)]\n",
    "        seg2 = cols_to_move + [ref_col]\n",
    "    \n",
    "    seg1 = [i for i in seg1 if i not in seg2]\n",
    "    seg3 = [i for i in cols if i not in seg1 + seg2]\n",
    "    \n",
    "    return(df[seg1 + seg2 + seg3])\n",
    "\n",
    "df = move_column(df,\n",
    "                 cols_to_move=['category'],\n",
    "                 ref_col='publishedAt',\n",
    "                 place='After')\n",
    "df.head()"
   ]
  },
  {
   "cell_type": "code",
   "execution_count": null,
   "id": "f295e858",
   "metadata": {},
   "outputs": [],
   "source": [
    "#isolate date \n",
    "for i, row in enumerate(df.publishedAt):\n",
    "    df.loc[i, 'publishedAt'] = row[:10]\n",
    "    \n",
    "for i, row in enumerate(df.trending_date):\n",
    "    df.loc[i, 'trending_date'] = row[:10]"
   ]
  },
  {
   "cell_type": "code",
   "execution_count": null,
   "id": "238c59d9",
   "metadata": {},
   "outputs": [],
   "source": [
    "# p is for published \n",
    "# t = trending \n",
    "\n",
    "#split in order to analyze y-y, m-m, and d-d changes \n",
    "\n",
    "# Split review dates by year, month and day (strings)\n",
    "time_split = df.publishedAt.str.split('-', n=2, expand=True)\n",
    "df['p_year'] = time_split[0]\n",
    "df['p_month'] = time_split[1]\n",
    "df['p_day'] = time_split[2]\n",
    "\n",
    "# Convert review dates into a datetime object\n",
    "dates = df.publishedAt\n",
    "df.publishedAt = [d.date() for d in pd.to_datetime(dates)]\n",
    "\n",
    "# Extract month and year from review dates\n",
    "df['p_month_year'] = pd.to_datetime(df['publishedAt']).dt.to_period('M')\n",
    "\n",
    "# Split review dates by year, month and day (strings)\n",
    "time_split = df.trending_date.str.split('-', n=2, expand=True)\n",
    "df['t_year'] = time_split[0]\n",
    "df['t_month'] = time_split[1]\n",
    "df['t_day'] = time_split[2]\n",
    "\n",
    "# Convert review dates into a datetime object\n",
    "dates = df.trending_date\n",
    "df.trending_date = [d.date() for d in pd.to_datetime(dates)]\n",
    "\n",
    "# Extract month and year from review dates\n",
    "df['t_month_year'] = pd.to_datetime(df['trending_date']).dt.to_period('M')"
   ]
  },
  {
   "cell_type": "code",
   "execution_count": null,
   "id": "f602b497",
   "metadata": {},
   "outputs": [],
   "source": [
    "df.head()\n",
    "\n",
    "\n",
    "df.ratings_disabled.value_counts()"
   ]
  },
  {
   "cell_type": "code",
   "execution_count": null,
   "id": "60a80cf7",
   "metadata": {
    "cell_style": "center",
    "scrolled": false
   },
   "outputs": [],
   "source": [
    "df1=df.copy()\n",
    "\n",
    "df1 = df1[(df1.ratings_disabled == False) & (df1.comments_disabled == False)]\n",
    "\n",
    "df1=df1.drop(['video_id','channelId','categoryId','thumbnail_link','comments_disabled','ratings_disabled','description'], axis=1)\n",
    "\n",
    "df1.head()"
   ]
  },
  {
   "cell_type": "code",
   "execution_count": null,
   "id": "55838c7f",
   "metadata": {},
   "outputs": [],
   "source": [
    "# Empirical cumulative distribution functions\n",
    "def ecdf(data):\n",
    "    \"\"\"Compute ECDF for a one-dimensional array of measurements.\"\"\"\n",
    "    # Number of data points: n\n",
    "    n = len(data)\n",
    "\n",
    "    # x-data for the ECDF: x\n",
    "    x = np.sort(data)\n",
    "\n",
    "    # y-data for the ECDF: y\n",
    "    y = np.arange(1, n + 1) / n\n",
    "\n",
    "    return x, y"
   ]
  },
  {
   "cell_type": "code",
   "execution_count": null,
   "id": "0ac2a8d3",
   "metadata": {},
   "outputs": [],
   "source": [
    "plt.figure(figsize=(20,5))\n",
    "\n",
    "# Plot cumulative distribution of views per video\n",
    "x, y = ecdf(df1.groupby('title').view_count.count())\n",
    "\n",
    "ax2 = plt.subplot(1,2,1)\n",
    "ax2.set_xlabel('Amount of Views')\n",
    "ax2.plot(x, y, marker='.', linestyle='none')\n",
    "ax2.set_xscale('log');\n",
    "ax2.set_title('Cumulative Distribution of Views per Video', fontsize=18)\n",
    "\n",
    "\n",
    "# Plot cumulative distribution of ratings per user\n",
    "x, y = ecdf(df1.groupby('channelTitle').view_count.count())\n",
    "\n",
    "ax3 = plt.subplot(1,2,2)\n",
    "ax3.set_xlabel('Amount of Views')\n",
    "ax3.plot(x, y, marker='.', linestyle='none')\n",
    "ax3.set_xscale('log');\n",
    "ax3.set_title('Cumulative Distribution of Views per Channel', fontsize=18)\n",
    "\n",
    "sns.despine(top=True, right=True)\n",
    "plt.tight_layout()\n",
    "plt.show()"
   ]
  },
  {
   "cell_type": "code",
   "execution_count": null,
   "id": "da0c3a82",
   "metadata": {},
   "outputs": [],
   "source": [
    "# todo, each bar needs different color "
   ]
  },
  {
   "cell_type": "code",
   "execution_count": null,
   "id": "c4560e78",
   "metadata": {
    "scrolled": true
   },
   "outputs": [],
   "source": [
    "plt.figure(figsize=(20,10))\n",
    "\n",
    "# Plot 10 most viewed categories\n",
    "ax1 = plt.subplot(1,2,1)\n",
    "df1.category.value_counts()[:10].sort_values().plot(kind='barh', width=0.9, ax=ax1)\n",
    "ax1.set_xlabel('Number of Views')\n",
    "ax1.set_title('Top 10 Most Viewed Categories', fontsize=20)\n",
    "\n",
    "# Plot 10 most viewed channels \n",
    "ax2 = plt.subplot(1,2,2)\n",
    "df1.channelTitle.value_counts()[:10].sort_values().plot(kind='barh', width=0.9, ax=ax2)\n",
    "ax2.set_xlabel('Number of Views')\n",
    "ax2.set_title('Top 10 Most Viewed Channels', fontsize=20)\n",
    "\n",
    "\n",
    "\n",
    "sns.despine(top=True, right=True)\n",
    "plt.tight_layout()\n",
    "plt.show()"
   ]
  },
  {
   "cell_type": "code",
   "execution_count": null,
   "id": "849196a3",
   "metadata": {},
   "outputs": [],
   "source": [
    "# # Plot 10 most viewed videos\n",
    "# ax3 = plt.subplot(1,3,3)\n",
    "# df1.title.value_counts()[:10].sort_values().plot(kind='barh', width=0.9, ax=ax2)\n",
    "# ax3.set_xlabel('Number of Views')\n",
    "# ax3.set_title('Top 10 Most Viewed Videos', fontsize=20)"
   ]
  },
  {
   "cell_type": "markdown",
   "id": "7be3d2f3",
   "metadata": {},
   "source": [
    "## Visual"
   ]
  },
  {
   "cell_type": "code",
   "execution_count": null,
   "id": "24ed4dcc",
   "metadata": {},
   "outputs": [],
   "source": [
    "# df1.title.value_counts()"
   ]
  },
  {
   "cell_type": "markdown",
   "id": "fb675698",
   "metadata": {},
   "source": [
    "### fig 1"
   ]
  },
  {
   "cell_type": "markdown",
   "id": "c0fa9cd6",
   "metadata": {},
   "source": [
    "### fig 3"
   ]
  },
  {
   "cell_type": "code",
   "execution_count": null,
   "id": "92aee1c7",
   "metadata": {
    "scrolled": false
   },
   "outputs": [],
   "source": [
    "plt.figure(figsize=(12,10))\n",
    "\n",
    "# Plot average rating by product category\n",
    "ax = df1.groupby('channelTitle').view_count.mean().sort_values()[:15].plot.barh(width=0.9)\n",
    "ax.set_title('Average Views per Channel', fontsize=15)\n",
    "ax.set_ylabel('')\n",
    "ax.set_xlabel('Average View')\n",
    "sns.despine(top=True, right=True)\n",
    "\n",
    "# Create a list to collect the plt.patches data\n",
    "totals = []\n",
    "\n",
    "# Find the values and append to list\n",
    "for i in ax.patches:\n",
    "    totals.append(i.get_width())\n",
    "\n",
    "# Set individual bar lables using above list\n",
    "total = sum(totals)\n",
    "\n",
    "# Set individual bar lables using above list\n",
    "for i in ax.patches:\n",
    "    # Get_width pulls left or right; get_y pushes up or down\n",
    "    ax.text(i.get_width()-0.5, i.get_y()+.3, \\\n",
    "            str(round((i.get_width()), 2)), fontsize=15,\n",
    "color='black')\n",
    "\n",
    "plt.show()"
   ]
  },
  {
   "cell_type": "markdown",
   "id": "6f5ac307",
   "metadata": {},
   "source": [
    "### fig 2"
   ]
  },
  {
   "cell_type": "code",
   "execution_count": null,
   "id": "82f9eb43",
   "metadata": {},
   "outputs": [],
   "source": [
    "plt.figure(figsize=(12,10))\n",
    "\n",
    "# Plot average rating by product category\n",
    "ax = df1.groupby('category').view_count.mean().sort_values().plot.barh(width=0.9)\n",
    "ax.set_title('Average Views per Category', fontsize=15)\n",
    "ax.set_ylabel('')\n",
    "ax.set_xlabel('Average View')\n",
    "sns.despine(top=True, right=True)\n",
    "\n",
    "# Create a list to collect the plt.patches data\n",
    "totals = []\n",
    "\n",
    "# Find the values and append to list\n",
    "for i in ax.patches:\n",
    "    totals.append(i.get_width())\n",
    "\n",
    "# Set individual bar lables using above list\n",
    "total = sum(totals)\n",
    "\n",
    "# Set individual bar lables using above list\n",
    "for i in ax.patches:\n",
    "    # Get_width pulls left or right; get_y pushes up or down\n",
    "    ax.text(i.get_width()-0.5, i.get_y()+.3, \\\n",
    "            str(round((i.get_width()), 2)), fontsize=15,\n",
    "color='black')\n",
    "\n",
    "plt.show()"
   ]
  },
  {
   "cell_type": "markdown",
   "id": "4ec1d0cb",
   "metadata": {},
   "source": [
    "### fig 4"
   ]
  },
  {
   "cell_type": "code",
   "execution_count": null,
   "id": "135cd86c",
   "metadata": {},
   "outputs": [],
   "source": [
    "plt.figure(figsize=(12,10))\n",
    "\n",
    "# Plot average rating by product category\n",
    "ax = df1.groupby('category').comment_count.mean().sort_values().plot.barh(width=0.9)\n",
    "ax.set_title('Average Views per Category', fontsize=15)\n",
    "ax.set_ylabel('')\n",
    "ax.set_xlabel('Average View')\n",
    "sns.despine(top=True, right=True)\n",
    "\n",
    "# Create a list to collect the plt.patches data\n",
    "totals = []\n",
    "\n",
    "# Find the values and append to list\n",
    "for i in ax.patches:\n",
    "    totals.append(i.get_width())\n",
    "\n",
    "# Set individual bar lables using above list\n",
    "total = sum(totals)\n",
    "\n",
    "# Set individual bar lables using above list\n",
    "for i in ax.patches:\n",
    "    # Get_width pulls left or right; get_y pushes up or down\n",
    "    ax.text(i.get_width()-0.5, i.get_y()+.3, \\\n",
    "            str(round((i.get_width()), 2)), fontsize=15,\n",
    "color='black')\n",
    "\n",
    "plt.show()"
   ]
  },
  {
   "cell_type": "code",
   "execution_count": null,
   "id": "f3e94462",
   "metadata": {
    "scrolled": false
   },
   "outputs": [],
   "source": [
    "df1.info()"
   ]
  },
  {
   "cell_type": "markdown",
   "id": "b58b3c52",
   "metadata": {},
   "source": [
    "# EDA"
   ]
  },
  {
   "cell_type": "code",
   "execution_count": null,
   "id": "8751e82c",
   "metadata": {
    "cell_style": "split"
   },
   "outputs": [],
   "source": [
    "# df.tags.value_counts()\n",
    "# adf.channelId.value_counts"
   ]
  },
  {
   "cell_type": "code",
   "execution_count": null,
   "id": "f754947f",
   "metadata": {},
   "outputs": [],
   "source": []
  }
 ],
 "metadata": {
  "kernelspec": {
   "display_name": "PythonData",
   "language": "python",
   "name": "pythondata"
  },
  "language_info": {
   "codemirror_mode": {
    "name": "ipython",
    "version": 3
   },
   "file_extension": ".py",
   "mimetype": "text/x-python",
   "name": "python",
   "nbconvert_exporter": "python",
   "pygments_lexer": "ipython3",
   "version": "3.6.10"
  },
  "toc": {
   "base_numbering": 1,
   "nav_menu": {},
   "number_sections": true,
   "sideBar": true,
   "skip_h1_title": false,
   "title_cell": "Table of Contents",
   "title_sidebar": "Contents",
   "toc_cell": false,
   "toc_position": {
    "height": "calc(100% - 180px)",
    "left": "10px",
    "top": "150px",
    "width": "146.286px"
   },
   "toc_section_display": true,
   "toc_window_display": true
  }
 },
 "nbformat": 4,
 "nbformat_minor": 5
}
